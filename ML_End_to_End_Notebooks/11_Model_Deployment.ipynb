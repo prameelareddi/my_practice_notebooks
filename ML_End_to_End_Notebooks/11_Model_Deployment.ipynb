{
 "cells": [
  {
   "cell_type": "code",
   "execution_count": null,
   "id": "fe6cab9b",
   "metadata": {},
   "outputs": [],
   "source": [
    "# Model Deployment\n"
   ]
  },
  {
   "cell_type": "code",
   "execution_count": null,
   "id": "47866274",
   "metadata": {},
   "outputs": [],
   "source": [
    "import joblib\n"
   ]
  },
  {
   "cell_type": "code",
   "execution_count": null,
   "id": "776abc57",
   "metadata": {},
   "outputs": [],
   "source": [
    "joblib.dump(model, 'regression_model.pkl')\n"
   ]
  },
  {
   "cell_type": "code",
   "execution_count": null,
   "id": "b0b088c7",
   "metadata": {},
   "outputs": [],
   "source": [
    "print('Model saved!')"
   ]
  }
 ],
 "metadata": {},
 "nbformat": 4,
 "nbformat_minor": 5
}
