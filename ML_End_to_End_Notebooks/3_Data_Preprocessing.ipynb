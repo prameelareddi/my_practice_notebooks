{
 "cells": [
  {
   "cell_type": "code",
   "execution_count": null,
   "id": "513112c5",
   "metadata": {},
   "outputs": [],
   "source": [
    "# Data Preprocessing & Outlier Handling\n"
   ]
  },
  {
   "cell_type": "code",
   "execution_count": null,
   "id": "73e07976",
   "metadata": {},
   "outputs": [],
   "source": [
    "import pandas as pd\n"
   ]
  },
  {
   "cell_type": "code",
   "execution_count": null,
   "id": "fed3bec3",
   "metadata": {},
   "outputs": [],
   "source": [
    "df = pd.read_csv('https://raw.githubusercontent.com/mwaskom/seaborn-data/master/diamonds.csv')\n"
   ]
  },
  {
   "cell_type": "code",
   "execution_count": null,
   "id": "35df5a29",
   "metadata": {},
   "outputs": [],
   "source": [
    "# Remove duplicates\n"
   ]
  },
  {
   "cell_type": "code",
   "execution_count": null,
   "id": "1b173c82",
   "metadata": {},
   "outputs": [],
   "source": [
    "df = df.drop_duplicates()\n"
   ]
  },
  {
   "cell_type": "code",
   "execution_count": null,
   "id": "3d44bae5",
   "metadata": {},
   "outputs": [],
   "source": [
    "# Handling missing values\n"
   ]
  },
  {
   "cell_type": "code",
   "execution_count": null,
   "id": "d981ccf7",
   "metadata": {},
   "outputs": [],
   "source": [
    "df = df.dropna()\n"
   ]
  },
  {
   "cell_type": "code",
   "execution_count": null,
   "id": "24aaa55d",
   "metadata": {},
   "outputs": [],
   "source": [
    "# Outlier Detection using IQR\n"
   ]
  },
  {
   "cell_type": "code",
   "execution_count": null,
   "id": "88f3e365",
   "metadata": {},
   "outputs": [],
   "source": [
    "Q1 = df['price'].quantile(0.25)\n"
   ]
  },
  {
   "cell_type": "code",
   "execution_count": null,
   "id": "d74cf728",
   "metadata": {},
   "outputs": [],
   "source": [
    "Q3 = df['price'].quantile(0.75)\n"
   ]
  },
  {
   "cell_type": "code",
   "execution_count": null,
   "id": "a466db9e",
   "metadata": {},
   "outputs": [],
   "source": [
    "IQR = Q3 - Q1\n"
   ]
  },
  {
   "cell_type": "code",
   "execution_count": null,
   "id": "1b15d362",
   "metadata": {},
   "outputs": [],
   "source": [
    "df = df[(df['price'] >= Q1 - 1.5 * IQR) & (df['price'] <= Q3 + 1.5 * IQR)]\n"
   ]
  },
  {
   "cell_type": "code",
   "execution_count": null,
   "id": "6c766b78",
   "metadata": {},
   "outputs": [],
   "source": [
    "df.describe()"
   ]
  }
 ],
 "metadata": {},
 "nbformat": 4,
 "nbformat_minor": 5
}
