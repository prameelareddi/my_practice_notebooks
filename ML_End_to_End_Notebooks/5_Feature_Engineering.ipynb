{
 "cells": [
  {
   "cell_type": "code",
   "execution_count": null,
   "id": "3bbe8ffc",
   "metadata": {},
   "outputs": [],
   "source": [
    "# Feature Engineering\n"
   ]
  },
  {
   "cell_type": "code",
   "execution_count": null,
   "id": "b724876c",
   "metadata": {},
   "outputs": [],
   "source": [
    "import pandas as pd\n"
   ]
  },
  {
   "cell_type": "code",
   "execution_count": null,
   "id": "87d628d7",
   "metadata": {},
   "outputs": [],
   "source": [
    "df = pd.read_csv('https://raw.githubusercontent.com/mwaskom/seaborn-data/master/diamonds.csv')\n"
   ]
  },
  {
   "cell_type": "code",
   "execution_count": null,
   "id": "e7f80972",
   "metadata": {},
   "outputs": [],
   "source": [
    "# Convert categorical columns using one-hot encoding\n"
   ]
  },
  {
   "cell_type": "code",
   "execution_count": null,
   "id": "af575ef7",
   "metadata": {},
   "outputs": [],
   "source": [
    "df_encoded = pd.get_dummies(df, columns=['cut', 'color', 'clarity'])\n"
   ]
  },
  {
   "cell_type": "code",
   "execution_count": null,
   "id": "88b3dd18",
   "metadata": {},
   "outputs": [],
   "source": [
    "df_encoded.head()"
   ]
  }
 ],
 "metadata": {},
 "nbformat": 4,
 "nbformat_minor": 5
}
