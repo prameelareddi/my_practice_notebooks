{
 "cells": [
  {
   "cell_type": "code",
   "execution_count": null,
   "id": "49cd0cee",
   "metadata": {},
   "outputs": [],
   "source": [
    "# Model Evaluation\n"
   ]
  },
  {
   "cell_type": "code",
   "execution_count": null,
   "id": "aea856d2",
   "metadata": {},
   "outputs": [],
   "source": [
    "from sklearn.metrics import mean_squared_error, r2_score\n"
   ]
  },
  {
   "cell_type": "code",
   "execution_count": null,
   "id": "df835556",
   "metadata": {},
   "outputs": [],
   "source": [
    "y_pred = model.predict(X_test)\n"
   ]
  },
  {
   "cell_type": "code",
   "execution_count": null,
   "id": "98b1f11d",
   "metadata": {},
   "outputs": [],
   "source": [
    "print('MSE:', mean_squared_error(y_test, y_pred))\n"
   ]
  },
  {
   "cell_type": "code",
   "execution_count": null,
   "id": "cd3a2f1c",
   "metadata": {},
   "outputs": [],
   "source": [
    "print('R2 Score:', r2_score(y_test, y_pred))"
   ]
  }
 ],
 "metadata": {},
 "nbformat": 4,
 "nbformat_minor": 5
}
