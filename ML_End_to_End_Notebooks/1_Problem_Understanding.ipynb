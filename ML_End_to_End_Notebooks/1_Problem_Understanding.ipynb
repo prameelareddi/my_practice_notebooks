{
 "cells": [
  {
   "cell_type": "code",
   "execution_count": null,
   "id": "04755c9a",
   "metadata": {},
   "outputs": [],
   "source": [
    "# Problem Understanding\n"
   ]
  },
  {
   "cell_type": "code",
   "execution_count": null,
   "id": "ed4adb55",
   "metadata": {},
   "outputs": [],
   "source": [
    "### Example: Predicting house prices using features like size, location, etc.\n"
   ]
  },
  {
   "cell_type": "code",
   "execution_count": null,
   "id": "fa82a2bc",
   "metadata": {},
   "outputs": [],
   "source": [
    "print('Problem Type: Regression')"
   ]
  }
 ],
 "metadata": {},
 "nbformat": 4,
 "nbformat_minor": 5
}
