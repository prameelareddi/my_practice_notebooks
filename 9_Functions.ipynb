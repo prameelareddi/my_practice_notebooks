{
  "cells": [
    {
      "cell_type": "markdown",
      "metadata": {
        "id": "j64Ua2CRQtv6"
      },
      "source": [
        "Functions\n",
        "\n",
        "Function is re usable code\n",
        "\n",
        "\n",
        "A block of code  which runs only when it is called\n",
        "\n",
        "\n",
        "A function can return data as Result\n",
        "\n",
        "\n",
        "def is keyword used to define the function\n",
        "\n",
        "\n",
        "Syntax for Function\n",
        "\n",
        "                    def functionName():\n",
        "        \n",
        "                        // Code"
      ]
    },
    {
      "cell_type": "code",
      "execution_count": null,
      "metadata": {
        "id": "mO-sTg7TQtwA"
      },
      "outputs": [],
      "source": [
        "def hello():\n",
        "    print(\"welcome to Data science\")\n",
        "    print(\"Today class is function\")\n",
        "    print(\"practise after the class\")"
      ]
    },
    {
      "cell_type": "code",
      "execution_count": null,
      "metadata": {
        "collapsed": true,
        "id": "4FByd6TjQtwD",
        "outputId": "a0d4055a-7005-4678-e3f6-fdf21b5e130a"
      },
      "outputs": [
        {
          "name": "stdout",
          "output_type": "stream",
          "text": [
            "welcome to Data science\n",
            "Today class is function\n",
            "practise after the class\n"
          ]
        }
      ],
      "source": [
        "# To print the code we can directly use function Name\n",
        "\n",
        "hello()"
      ]
    },
    {
      "cell_type": "code",
      "execution_count": null,
      "metadata": {
        "id": "pTJ_4xzXQtwG"
      },
      "outputs": [],
      "source": [
        "def sum():\n",
        "    a=10\n",
        "    b=20\n",
        "    c=a+b\n",
        "    #print(\"sum of a and b is 30\")"
      ]
    },
    {
      "cell_type": "code",
      "execution_count": null,
      "metadata": {
        "id": "0CdaSfGVQtwH"
      },
      "outputs": [],
      "source": [
        "sum()"
      ]
    },
    {
      "cell_type": "markdown",
      "metadata": {
        "id": "17l6szQtQtwI"
      },
      "source": [
        "Return Statement\n",
        "\n",
        "To print anything in function we cannot directly use function name we have to use return Statement\n",
        "\n",
        "The return statement is used to exit a function and go back to the place from where it was called.\n",
        "\n",
        "            Syntax:\n",
        "            return [expression]\n",
        "            \n",
        " Return statement can contain an expression which gets evaluated and the value is returned.\n",
        "\n",
        "\n",
        "\n"
      ]
    },
    {
      "cell_type": "code",
      "execution_count": null,
      "metadata": {
        "id": "bMIe4NilQtwK"
      },
      "outputs": [],
      "source": [
        "def sum():\n",
        "    a=10\n",
        "    b=20\n",
        "    c=a+b\n",
        "    return c"
      ]
    },
    {
      "cell_type": "code",
      "execution_count": null,
      "metadata": {
        "id": "kZ4qnzT7QtwL",
        "outputId": "e87f62b0-4d24-41bd-ccf0-522f2cd87487"
      },
      "outputs": [
        {
          "data": {
            "text/plain": [
              "30"
            ]
          },
          "execution_count": 7,
          "metadata": {},
          "output_type": "execute_result"
        }
      ],
      "source": [
        "sum()"
      ]
    },
    {
      "cell_type": "code",
      "execution_count": null,
      "metadata": {
        "id": "VKO611fFQtwM"
      },
      "outputs": [],
      "source": [
        "# Return Multple values\n",
        "def calc():\n",
        "    a = 10\n",
        "    b = 20\n",
        "    c = a+b\n",
        "    d = a*b\n",
        "    return c,d"
      ]
    },
    {
      "cell_type": "code",
      "execution_count": null,
      "metadata": {
        "id": "WO6RFkEZQtwN",
        "outputId": "b1522b83-f4e0-4dbc-ac0b-e25dabbd92f0"
      },
      "outputs": [
        {
          "data": {
            "text/plain": [
              "(30, 200)"
            ]
          },
          "execution_count": 9,
          "metadata": {},
          "output_type": "execute_result"
        }
      ],
      "source": [
        "calc()"
      ]
    },
    {
      "cell_type": "code",
      "execution_count": null,
      "metadata": {
        "id": "MPYlvuzvQtwP"
      },
      "outputs": [],
      "source": [
        "def word():\n",
        "    a = \"hello\"\n",
        "    b = \"world\"\n",
        "    c = a+b\n",
        "    return c"
      ]
    },
    {
      "cell_type": "code",
      "execution_count": null,
      "metadata": {
        "id": "cJ7ITvCsQtwP",
        "outputId": "66c546bf-fa8f-40ab-e8f6-3d1ec61fd74f"
      },
      "outputs": [
        {
          "data": {
            "text/plain": [
              "'helloworld'"
            ]
          },
          "execution_count": 11,
          "metadata": {},
          "output_type": "execute_result"
        }
      ],
      "source": [
        "word()"
      ]
    },
    {
      "cell_type": "markdown",
      "metadata": {
        "id": "c_UOOOKSQtwQ"
      },
      "source": [
        "# Arguments\n",
        "\n",
        "Information can be passed into function as Arguments\n",
        "\n",
        "Arguments are specified after the function name, inside the parentheses. You can add as many arguments as you want,\n",
        "just separate them with a comma.\n",
        "\n"
      ]
    },
    {
      "cell_type": "code",
      "execution_count": null,
      "metadata": {
        "id": "yyhKaLeiQtwR"
      },
      "outputs": [],
      "source": [
        "def arg(funct):\n",
        "\n",
        "    #def arg(hello):\n",
        "\n",
        "  print(funct + \" world\")\n",
        "\n",
        "\n"
      ]
    },
    {
      "cell_type": "code",
      "execution_count": null,
      "metadata": {
        "id": "geGBzku0QtwS",
        "outputId": "3be38297-d66d-4a48-fc84-bb930e6b9cf4"
      },
      "outputs": [
        {
          "name": "stdout",
          "output_type": "stream",
          "text": [
            "hello world\n"
          ]
        }
      ],
      "source": [
        "arg(\"hello\")"
      ]
    },
    {
      "cell_type": "code",
      "execution_count": null,
      "metadata": {
        "id": "61rKrhRcQtwT"
      },
      "outputs": [],
      "source": [
        "# when variables should be given while calling the function we can give arguements\n",
        "def sum(a,b):\n",
        "    return a+b, a-b"
      ]
    },
    {
      "cell_type": "code",
      "execution_count": null,
      "metadata": {
        "id": "2E-TbNKyQtwT",
        "outputId": "7ad8a34c-c6eb-49a4-dafa-21c1c97cdee4"
      },
      "outputs": [
        {
          "data": {
            "text/plain": [
              "(14, 10)"
            ]
          },
          "execution_count": 20,
          "metadata": {},
          "output_type": "execute_result"
        }
      ],
      "source": [
        "# we can give the values in run time when we are using Arguments method\n",
        "\n",
        "sum(12,2)"
      ]
    },
    {
      "cell_type": "markdown",
      "metadata": {
        "id": "4cS-SPdQQtwU"
      },
      "source": [
        "# Types of Argument\n",
        "\n",
        "1) Default Arguments\n",
        "\n",
        "2) Positional Arguments\n",
        "\n",
        "3) Reference Arguments\n",
        "\n",
        "4) Arbitary Arguments\n",
        "\n",
        "5) Keyword Arguments\n",
        "\n"
      ]
    },
    {
      "cell_type": "markdown",
      "metadata": {
        "id": "x0j6S74_QtwU"
      },
      "source": [
        "# 1) Default Argument\n",
        "\n",
        "we will provide the defuault value in the function"
      ]
    },
    {
      "cell_type": "code",
      "execution_count": null,
      "metadata": {
        "id": "V5J0-E-vQtwW",
        "outputId": "5cea0a66-ee0f-4574-f201-c858a751b7a4"
      },
      "outputs": [
        {
          "name": "stdout",
          "output_type": "stream",
          "text": [
            "I am from Norway\n"
          ]
        }
      ],
      "source": [
        "def my_function(country = \"Norway\"):\n",
        "  print(\"I am from \" + country)\n",
        "\n",
        "#my_function(\"Sweden\")\n",
        "my_function()"
      ]
    },
    {
      "cell_type": "markdown",
      "metadata": {
        "id": "_nr4_IlDQtwW"
      },
      "source": [
        "# Positional arguments\n",
        "Arguments that can be called by their position in the function definition."
      ]
    },
    {
      "cell_type": "code",
      "execution_count": null,
      "metadata": {
        "id": "vNXsN4tNQtwX"
      },
      "outputs": [],
      "source": [
        "def test(name, age,city):\n",
        "    print(\"name\",name)\n",
        "    print(\"age\",age)\n",
        "    print(\"city\",city)"
      ]
    },
    {
      "cell_type": "code",
      "execution_count": null,
      "metadata": {
        "id": "WskoalbQQtwX",
        "outputId": "b1769c38-d5ae-48d9-ec0f-72c1a63c44d2"
      },
      "outputs": [
        {
          "name": "stdout",
          "output_type": "stream",
          "text": [
            "name Mani\n",
            "age 25\n",
            "city Mumbai\n"
          ]
        }
      ],
      "source": [
        "test(\"Mani\",25,\"Mumbai\")"
      ]
    },
    {
      "cell_type": "markdown",
      "metadata": {
        "id": "F5kJoikIQtwY"
      },
      "source": [
        "# Reference Argument\n",
        "\n",
        "Reference value will be passed as Argument in function\n",
        "\n"
      ]
    },
    {
      "cell_type": "code",
      "execution_count": null,
      "metadata": {
        "id": "UxJcqS_yQtwY"
      },
      "outputs": [],
      "source": [
        "def ref(n, a,c):\n",
        "    print(\"name\",n)\n",
        "    print(\"age\",a)\n",
        "    print(\"city\",c)"
      ]
    },
    {
      "cell_type": "code",
      "execution_count": null,
      "metadata": {
        "collapsed": true,
        "id": "PQHZuSTaQtwZ",
        "outputId": "f1cab290-ee88-4532-c275-6bebee9f43e2"
      },
      "outputs": [
        {
          "name": "stdout",
          "output_type": "stream",
          "text": [
            "name Mani\n",
            "age 25\n",
            "city Mumbai\n"
          ]
        }
      ],
      "source": [
        "ref(n= \"Mani\",a= 25,c= \"Mumbai\")"
      ]
    },
    {
      "cell_type": "code",
      "execution_count": null,
      "metadata": {
        "id": "voNJ--PKQtwa"
      },
      "outputs": [],
      "source": [
        "# c = hyderabad will call as Non Default arguments which should be giving at the end of function\n",
        "def ref1(n,a,c=\"Hyderabad\"):\n",
        "    print(\"Name:\",n)\n",
        "    print(\"Age:\",a)\n",
        "    print(\"City:\",c)"
      ]
    },
    {
      "cell_type": "code",
      "execution_count": null,
      "metadata": {
        "collapsed": true,
        "id": "xzhb9cf1Qtwa",
        "outputId": "6a5adf18-fc71-45d1-ab9e-c6f555c223ab"
      },
      "outputs": [
        {
          "name": "stdout",
          "output_type": "stream",
          "text": [
            "Name: krish\n",
            "Age: 25\n",
            "City: Hyderabad\n"
          ]
        }
      ],
      "source": [
        "ref1(n=\"krish\", a=25)"
      ]
    },
    {
      "cell_type": "markdown",
      "metadata": {
        "id": "6T1SzsSRQtwb"
      },
      "source": [
        "# Arbitary Arguments\n",
        "\n",
        "If you do not know how many keyword arguments that will be passed into your function, add two asterisk:\n",
        "    *before the parameter name in the function definition.\n",
        "    \n",
        "    "
      ]
    },
    {
      "cell_type": "code",
      "execution_count": null,
      "metadata": {
        "id": "dFndIWPQQtwb",
        "outputId": "f135f6c0-a01d-439b-ed39-5030863511ab"
      },
      "outputs": [
        {
          "name": "stdout",
          "output_type": "stream",
          "text": [
            "('kishore', 'mani', 'krish')\n"
          ]
        }
      ],
      "source": [
        "def func(*names):\n",
        "    print(names)\n",
        "\n",
        "func(\"kishore\",\"mani\",\"krish\")"
      ]
    },
    {
      "cell_type": "markdown",
      "metadata": {
        "id": "AM3ZCHyNQtwc"
      },
      "source": [
        "# Keyword Arguments\n",
        "\n"
      ]
    },
    {
      "cell_type": "code",
      "execution_count": null,
      "metadata": {
        "id": "PoAAjKisQtwc",
        "outputId": "215f2ef1-0fd4-4d4b-be08-d22ed937ee09"
      },
      "outputs": [
        {
          "name": "stdout",
          "output_type": "stream",
          "text": [
            "My name is  krish\n",
            "My name is mani\n",
            "My name is Ratna\n"
          ]
        }
      ],
      "source": [
        "def Karg(name1,name2,name3):\n",
        "\n",
        "  print(\"My name is \" + name1)\n",
        "  print(\"My name is \" + name2)\n",
        "  print(\"My name is \" + name3)\n",
        "\n",
        "\n",
        "Karg(name1 =\" krish\", name2 =\"mani\", name3 = \"Ratna\")\n",
        "\n",
        "\n"
      ]
    },
    {
      "cell_type": "markdown",
      "metadata": {
        "id": "dtcBlMZBQtwd"
      },
      "source": [
        "\n",
        "\n",
        "kwargs allows you to pass keyworded variable length of arguments to a function.\n",
        "\n",
        "You should use **kwargs if you want to handle named arguments in a function\n",
        "\n",
        "\n"
      ]
    },
    {
      "cell_type": "code",
      "execution_count": null,
      "metadata": {
        "id": "gXbS1Eb9Qtwe",
        "outputId": "9123e85d-c34e-4d46-a6b5-8f97faaf4cfc"
      },
      "outputs": [
        {
          "name": "stdout",
          "output_type": "stream",
          "text": [
            "<class 'dict'>\n",
            "{'a': 20, 'b': 30, 'c': 40, 'd': 50}\n"
          ]
        }
      ],
      "source": [
        "def add(**kwargs):\n",
        "    print (type(kwargs))\n",
        "    print (kwargs)\n",
        "add(a=20, b=30, c=40, d=50)"
      ]
    },
    {
      "cell_type": "code",
      "execution_count": null,
      "metadata": {
        "id": "4lq7R4_4Qtwe"
      },
      "outputs": [],
      "source": [
        "def data(name,**data):\n",
        "    print(\"Name\",name)\n",
        "    print(\"Data:\",data)"
      ]
    },
    {
      "cell_type": "code",
      "execution_count": null,
      "metadata": {
        "id": "jnqkF5qqQtwf",
        "outputId": "a3b47e05-a909-49c2-e6cc-2046f3115f04"
      },
      "outputs": [
        {
          "name": "stdout",
          "output_type": "stream",
          "text": [
            "Name rohan\n",
            "Data: {}\n"
          ]
        }
      ],
      "source": [
        "data(\"rohan\")"
      ]
    },
    {
      "cell_type": "code",
      "execution_count": null,
      "metadata": {
        "id": "sj_QNZhsQtwf",
        "outputId": "dba78dc6-66af-4894-e042-94c096315ee7"
      },
      "outputs": [
        {
          "name": "stdout",
          "output_type": "stream",
          "text": [
            "Name rohan\n",
            "Data: {'age': 25}\n"
          ]
        }
      ],
      "source": [
        "data(\"rohan\",age =25)"
      ]
    },
    {
      "cell_type": "code",
      "execution_count": null,
      "metadata": {
        "id": "K1INEeVVQtwg",
        "outputId": "d8860d7e-8493-4ba3-cfae-81eed7ab6912"
      },
      "outputs": [
        {
          "name": "stdout",
          "output_type": "stream",
          "text": [
            "Name rohan\n",
            "Data: {'age': 25, 'city': 'Hyderabad'}\n"
          ]
        }
      ],
      "source": [
        "data(\"rohan\",age =25,city=\"Hyderabad\")"
      ]
    },
    {
      "cell_type": "markdown",
      "metadata": {
        "id": "1ZP7DUxDQtwg"
      },
      "source": [
        "# Input function\n",
        "\n",
        "Its deafult input function that we can use to take the input from the user\n",
        "\n"
      ]
    },
    {
      "cell_type": "code",
      "execution_count": null,
      "metadata": {
        "id": "xaEqljrOQtwv",
        "outputId": "a0ce451c-6927-41a3-8e02-145ddcb00948"
      },
      "outputs": [
        {
          "name": "stdout",
          "output_type": "stream",
          "text": [
            "Enter the number:3\n"
          ]
        }
      ],
      "source": [
        "inp=input(\"Enter the number:\")"
      ]
    },
    {
      "cell_type": "code",
      "execution_count": null,
      "metadata": {
        "id": "fB2-D0qdQtww",
        "outputId": "e6f34e4d-32af-4054-da51-fb69eb3452d8"
      },
      "outputs": [
        {
          "data": {
            "text/plain": [
              "'3'"
            ]
          },
          "execution_count": 19,
          "metadata": {},
          "output_type": "execute_result"
        }
      ],
      "source": [
        "inp"
      ]
    },
    {
      "cell_type": "code",
      "execution_count": null,
      "metadata": {
        "id": "8K1zI_eiQtwx",
        "outputId": "f0094109-3a96-412c-c49e-68def37795a1"
      },
      "outputs": [
        {
          "data": {
            "text/plain": [
              "str"
            ]
          },
          "execution_count": 20,
          "metadata": {},
          "output_type": "execute_result"
        }
      ],
      "source": [
        "type(inp)"
      ]
    },
    {
      "cell_type": "code",
      "execution_count": null,
      "metadata": {
        "id": "e-6jhUG3Qtwx",
        "outputId": "e5a78416-d04c-40de-f16b-ef8227eb49d0"
      },
      "outputs": [
        {
          "name": "stdout",
          "output_type": "stream",
          "text": [
            "Please enter a:23\n",
            "Entered Number is: 23\n"
          ]
        }
      ],
      "source": [
        "a=input(\"Please enter a:\")\n",
        "\n",
        "print(\"Entered Number is:\",a)"
      ]
    },
    {
      "cell_type": "code",
      "execution_count": null,
      "metadata": {
        "id": "FFLiVoQtQtwy",
        "outputId": "32ff54b6-33dd-4301-c305-82a87bb3db65"
      },
      "outputs": [
        {
          "name": "stdout",
          "output_type": "stream",
          "text": [
            "Please enter b:34\n",
            "Entered Number is: 34\n"
          ]
        }
      ],
      "source": [
        "b=input(\"Please enter b:\")\n",
        "\n",
        "print(\"Entered Number is:\",b)\n"
      ]
    },
    {
      "cell_type": "code",
      "execution_count": null,
      "metadata": {
        "id": "E09Vh2nYQtwy"
      },
      "outputs": [],
      "source": []
    },
    {
      "cell_type": "code",
      "execution_count": null,
      "metadata": {
        "id": "fLryCtz5Qtwz"
      },
      "outputs": [],
      "source": []
    }
  ],
  "metadata": {
    "kernelspec": {
      "display_name": "Python 3",
      "language": "python",
      "name": "python3"
    },
    "language_info": {
      "codemirror_mode": {
        "name": "ipython",
        "version": 3
      },
      "file_extension": ".py",
      "mimetype": "text/x-python",
      "name": "python",
      "nbconvert_exporter": "python",
      "pygments_lexer": "ipython3",
      "version": "3.8.8"
    },
    "colab": {
      "provenance": []
    }
  },
  "nbformat": 4,
  "nbformat_minor": 0
}