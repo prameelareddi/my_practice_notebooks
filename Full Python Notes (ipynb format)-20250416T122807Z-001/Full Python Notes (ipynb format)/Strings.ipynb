{
 "cells": [
  {
   "cell_type": "markdown",
   "metadata": {},
   "source": [
    "# String\n",
    "#### A string in Python is a sequence of characters. It is a derived data type. Strings are immutable. This means that once defined, they cannot be changed"
   ]
  },
  {
   "cell_type": "markdown",
   "metadata": {},
   "source": [
    "for example\n",
    "\n",
    "s='old is gold'\n",
    "\n",
    "this is a string. collection of characters together"
   ]
  },
  {
   "cell_type": "markdown",
   "metadata": {},
   "source": [
    "# Points to remember about string\n",
    "    1] Strings are always written in single or double quotes\n",
    "    2] We can use single quote inside double quotes and vice versa while declearing a string\n",
    "    e.g.\n",
    "    'Rohit\"s laptop'\n",
    "    or\n",
    "    \"Rohit's Laptop\""
   ]
  },
  {
   "cell_type": "code",
   "execution_count": 34,
   "metadata": {},
   "outputs": [
    {
     "name": "stdout",
     "output_type": "stream",
     "text": [
      "Rohit's Laptop\n"
     ]
    }
   ],
   "source": [
    "#what if user wantes to use {'s} inside single quotes\n",
    "#e.g.\n",
    "#print('Rohit's Laptop')\n",
    "#this abpve statement is thowing an error so we will use special character \\\n",
    "print('Rohit\\'s Laptop')\n",
    "#so this \\ makes compiler aware that the ' used next to \\ doesnt have and specific meaning so simply print it on screen"
   ]
  },
  {
   "cell_type": "markdown",
   "metadata": {},
   "source": [
    "Concatenation of strings"
   ]
  },
  {
   "cell_type": "code",
   "execution_count": 35,
   "metadata": {},
   "outputs": [
    {
     "data": {
      "text/plain": [
       "'rohitrohit'"
      ]
     },
     "execution_count": 35,
     "metadata": {},
     "output_type": "execute_result"
    }
   ],
   "source": [
    "'rohit'+'rohit'"
   ]
  },
  {
   "cell_type": "code",
   "execution_count": 36,
   "metadata": {},
   "outputs": [
    {
     "name": "stdout",
     "output_type": "stream",
     "text": [
      "RohitRohitRohitRohitRohitRohitRohitRohitRohitRohit\n"
     ]
    }
   ],
   "source": [
    "#multiple printing of strings\n",
    "print('Rohit'*10)"
   ]
  },
  {
   "cell_type": "markdown",
   "metadata": {},
   "source": [
    "# raw string-\n",
    "                    this function tells compiler to print given data as it is enclosed in single or double quotations"
   ]
  },
  {
   "cell_type": "code",
   "execution_count": 40,
   "metadata": {},
   "outputs": [
    {
     "name": "stdout",
     "output_type": "stream",
     "text": [
      "c:docs\n",
      "ew\n"
     ]
    }
   ],
   "source": [
    "#without using raw string\n",
    "print('c:docs\\new')"
   ]
  },
  {
   "cell_type": "code",
   "execution_count": 41,
   "metadata": {},
   "outputs": [
    {
     "name": "stdout",
     "output_type": "stream",
     "text": [
      "c:docs\\new\n"
     ]
    }
   ],
   "source": [
    "#after using raw string\n",
    "print(r'c:docs\\new')"
   ]
  },
  {
   "cell_type": "markdown",
   "metadata": {},
   "source": [
    "# Slicing and indexing"
   ]
  },
  {
   "cell_type": "code",
   "execution_count": 42,
   "metadata": {},
   "outputs": [
    {
     "name": "stdout",
     "output_type": "stream",
     "text": [
      "r\n"
     ]
    }
   ],
   "source": [
    "s=\"rohit\"\n",
    "print(s[0])\n",
    "#this will give is letter present at index 0"
   ]
  },
  {
   "cell_type": "code",
   "execution_count": 44,
   "metadata": {},
   "outputs": [
    {
     "name": "stdout",
     "output_type": "stream",
     "text": [
      "rohi\n"
     ]
    }
   ],
   "source": [
    "print(s[0:4])\n",
    "#this will throw output from given range i.e. till index 3 "
   ]
  },
  {
   "cell_type": "code",
   "execution_count": 45,
   "metadata": {},
   "outputs": [
    {
     "name": "stdout",
     "output_type": "stream",
     "text": [
      "tihor\n"
     ]
    }
   ],
   "source": [
    "print(s[::-1])\n",
    "#this is used to reverse the string"
   ]
  },
  {
   "cell_type": "code",
   "execution_count": 46,
   "metadata": {},
   "outputs": [
    {
     "name": "stdout",
     "output_type": "stream",
     "text": [
      "t\n"
     ]
    }
   ],
   "source": [
    "print(s[-1])\n",
    "#will return the last element from given string"
   ]
  },
  {
   "cell_type": "markdown",
   "metadata": {},
   "source": [
    "Method\tDescription\n",
    "    \n",
    "\n",
    "    capitalize()\t-Converts the first character to upper case\n",
    "\n",
    "    casefold()\t    -Converts string into lower case\n",
    "\n",
    "    center()\t    -Returns a centered string\n",
    "\n",
    "    count()\t        -Returns the number of times a specified value occurs in a string\n",
    "\n",
    "    encode()\t    -Returns an encoded version of the string\n",
    "\n",
    "    endswith()\t    -Returns true if the string ends with the specified value\n",
    "\n",
    "    expandtabs()\t-Sets the tab size of the string\n",
    "\n",
    "    find()\t        -Searches the string for a specified value and returns the position of where it was found\n",
    "\n",
    "    format()\t    -Formats specified values in a string\n",
    "\n",
    "    format_map()\t-Formats specified values in a string\n",
    "\n",
    "    index()\t        -Searches the string for a specified value and returns the position of where it was found\n",
    "\n",
    "    isalnum()\t    -Returns True if all characters in the string are alphanumeric\n",
    "\n",
    "    isalpha()\t    -Returns True if all characters in the string are in the alphabet\n",
    "\n",
    "    isdecimal()\t    -Returns True if all characters in the string are decimals\n",
    "\n",
    "    isdigit()\t    -Returns True if all characters in the string are digits\n",
    "\n",
    "    isidentifier()\t-Returns True if the string is an identifier\n",
    "    \n",
    "    islower()\t    -Returns True if all characters in the string are lower case\n",
    "\n",
    "    isnumeric()\t    -Returns True if all characters in the string are numeric\n",
    "\n",
    "    isprintable()\t-Returns True if all characters in the string are printable\n",
    "\n",
    "    isspace()\t    -Returns True if all characters in the string are whitespaces\n",
    "\n",
    "    istitle()\t    -Returns True if the string follows the rules of a title\n",
    "\n",
    "    isupper()\t    -Returns True if all characters in the string are upper case\n",
    "\n",
    "    join()\t        -Joins the elements of an iterable to the end of the string\n",
    "\n",
    "    ljust()\t        -Returns a left justified version of the string\n",
    "\n",
    "    lower()\t        -Converts a string into lower case\n",
    "\n",
    "    lstrip()\t    -Returns a left trim version of the string\n",
    "\n",
    "    maketrans()\t    -Returns a translation table to be used in translations\n",
    "\n",
    "    partition()\t    -Returns a tuple where the string is parted into three parts\n",
    "\n",
    "    replace()\t    -Returns a string where a specified value is replaced with a specified value\n",
    "\n",
    "    rfind()\t        -Searches the string for a specified value and returns the last position of where it was found\n",
    "\n",
    "    rindex()\t    -Searches the string for a specified value and returns the last position of where it was found\n",
    "\n",
    "    rjust()\t        -Returns a right justified version of the string\n",
    "\n",
    "    rpartition()\t-Returns a tuple where the string is parted into three parts\n",
    "\n",
    "    rsplit()\t    -Splits the string at the specified separator, and returns a list\n",
    "\n",
    "    rstrip()\t    -Returns a right trim version of the string\n",
    "\n",
    "    split()\t        -Splits the string at the specified separator, and returns a list\n",
    "\n",
    "    splitlines()\t-Splits the string at line breaks and returns a list\n",
    "\n",
    "    startswith()\t-Returns true if the string starts with the specified value\n",
    "\n",
    "    strip()\t        -Returns a trimmed version of the string\n",
    "\n",
    "    swapcase()\t    -Swaps cases, lower case becomes upper case and vice versa\n",
    "\n",
    "    title()\t        -Converts the first character of each word to upper case\n",
    "\n",
    "    translate()\t    -Returns a translated string\n",
    "\n",
    "    upper()\t        -Converts a string into upper case\n",
    "\n",
    "    zfill()\t        -Fills the string with a specified number of 0 values at the beginning"
   ]
  },
  {
   "cell_type": "markdown",
   "metadata": {},
   "source": [
    "# Membership"
   ]
  },
  {
   "cell_type": "markdown",
   "metadata": {},
   "source": [
    "This is used to check whether given element is present or not in given string"
   ]
  },
  {
   "cell_type": "code",
   "execution_count": 1,
   "metadata": {},
   "outputs": [
    {
     "data": {
      "text/plain": [
       "True"
      ]
     },
     "execution_count": 1,
     "metadata": {},
     "output_type": "execute_result"
    }
   ],
   "source": [
    "s=\"rohit\"\n",
    "'h' in s"
   ]
  }
 ],
 "metadata": {
  "kernelspec": {
   "display_name": "Python 3",
   "language": "python",
   "name": "python3"
  },
  "language_info": {
   "codemirror_mode": {
    "name": "ipython",
    "version": 3
   },
   "file_extension": ".py",
   "mimetype": "text/x-python",
   "name": "python",
   "nbconvert_exporter": "python",
   "pygments_lexer": "ipython3",
   "version": "3.8.5"
  }
 },
 "nbformat": 4,
 "nbformat_minor": 4
}
