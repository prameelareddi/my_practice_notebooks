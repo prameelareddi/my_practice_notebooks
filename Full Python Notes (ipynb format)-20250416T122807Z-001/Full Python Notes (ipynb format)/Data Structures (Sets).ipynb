{
 "cells": [
  {
   "cell_type": "markdown",
   "metadata": {},
   "source": [
    "# Sets "
   ]
  },
  {
   "cell_type": "markdown",
   "metadata": {},
   "source": [
    "### Sets are aslo type of collection like lists,tuple storing mixed data \n",
    "\n",
    "### Sets are enclosed within curly brackets and elements written as comma separated\n",
    "\n",
    "### Sets are unordered and doesnt allow duplicates"
   ]
  },
  {
   "cell_type": "code",
   "execution_count": null,
   "metadata": {},
   "outputs": [],
   "source": [
    "#declaring set\n",
    "s={1,2,3,4,5}"
   ]
  },
  {
   "cell_type": "markdown",
   "metadata": {},
   "source": [
    "len()- This function helps to find length of given set"
   ]
  },
  {
   "cell_type": "code",
   "execution_count": null,
   "metadata": {},
   "outputs": [],
   "source": [
    "len(s)"
   ]
  },
  {
   "cell_type": "markdown",
   "metadata": {},
   "source": [
    "# Indexing and Slicing "
   ]
  },
  {
   "cell_type": "markdown",
   "metadata": {},
   "source": [
    "### Set does not supports Indexing and slicing"
   ]
  },
  {
   "cell_type": "markdown",
   "metadata": {},
   "source": [
    "# Functions that sets supports\n",
    "\n",
    "- add()\n",
    "\n",
    "   -This is used to add new values in sets\n",
    "\n",
    "- Update()\n",
    "\n",
    "  -This is used to add multiple values in given set\n",
    "  \n",
    "- remove()\n",
    "\n",
    "  -when programmer wants to remove some values from the set then remove is used\n",
    "  \n",
    "- pop()\n",
    "\n",
    "  -when programmer wants to remove some values from the set based on their index position\n",
    "  \n",
    "- clear()\n",
    "\n",
    "   -This will clear given set i.e. will remove all elements present inside existing set\n",
    "   \n",
    "- copy()\n",
    "\n",
    "  -This is used to make deep copy of 1 set to another"
   ]
  },
  {
   "cell_type": "code",
   "execution_count": null,
   "metadata": {},
   "outputs": [],
   "source": [
    "s={1,2,3,4,5}\n",
    "s.add(33)\n",
    "print(s)"
   ]
  },
  {
   "cell_type": "code",
   "execution_count": null,
   "metadata": {},
   "outputs": [],
   "source": [
    "#here we are adding multiple values to existing sets\n",
    "s.update({8,9,66})\n",
    "print(s)"
   ]
  },
  {
   "cell_type": "code",
   "execution_count": null,
   "metadata": {},
   "outputs": [],
   "source": [
    "s.remove(2)\n",
    "print(s)"
   ]
  },
  {
   "cell_type": "code",
   "execution_count": null,
   "metadata": {},
   "outputs": [],
   "source": [
    "s.pop()\n",
    "#in set pop don't take any argument and removes the 1st element of set"
   ]
  },
  {
   "cell_type": "code",
   "execution_count": null,
   "metadata": {},
   "outputs": [],
   "source": [
    "#here we are coping s into s1\n",
    "s1=s.copy()\n",
    "print(s1)"
   ]
  },
  {
   "cell_type": "code",
   "execution_count": null,
   "metadata": {},
   "outputs": [],
   "source": [
    "#here we are clearing the sets\n",
    "s.clear()\n",
    "print(s)"
   ]
  },
  {
   "cell_type": "markdown",
   "metadata": {},
   "source": [
    "## Set Methods"
   ]
  },
  {
   "cell_type": "markdown",
   "metadata": {},
   "source": [
    "There are so many methods are available out of which we will see main 4 methods of sets\n",
    "lets se we have 2 sets A and B\n",
    "* 1] Union (A | B)\n",
    "\n",
    "-    Union represents the total unique elements in A and B\n",
    "\n",
    "* 2]Intersection (A & B)\n",
    "\n",
    "- Intersection represents the common elements to both sets\n",
    "\n",
    "* 3] difference( A-B)\n",
    "\n",
    "- This representd the elements present in A and not in B\n",
    "\n",
    "* 4]symmetric difference( A^B)\n",
    "\n",
    "- this represents the union of A and B minus intersection of A and B\n"
   ]
  },
  {
   "cell_type": "code",
   "execution_count": null,
   "metadata": {},
   "outputs": [],
   "source": [
    "A={1,2,3,4,5}\n",
    "B={6,7,8,9}"
   ]
  },
  {
   "cell_type": "code",
   "execution_count": null,
   "metadata": {
    "scrolled": true
   },
   "outputs": [],
   "source": [
    "print(A|B)\n",
    "print(A&B)\n",
    "print(A-B)\n",
    "print(A^B)"
   ]
  },
  {
   "cell_type": "markdown",
   "metadata": {},
   "source": [
    "# Membership"
   ]
  },
  {
   "cell_type": "code",
   "execution_count": null,
   "metadata": {},
   "outputs": [],
   "source": [
    "5 in A\n",
    "#this returns the presence of given of in given set\n",
    "# if present it will return bool value True or Vice versa"
   ]
  }
 ],
 "metadata": {
  "kernelspec": {
   "display_name": "Python 3",
   "language": "python",
   "name": "python3"
  },
  "language_info": {
   "codemirror_mode": {
    "name": "ipython",
    "version": 3
   },
   "file_extension": ".py",
   "mimetype": "text/x-python",
   "name": "python",
   "nbconvert_exporter": "python",
   "pygments_lexer": "ipython3",
   "version": "3.8.5"
  }
 },
 "nbformat": 4,
 "nbformat_minor": 4
}
