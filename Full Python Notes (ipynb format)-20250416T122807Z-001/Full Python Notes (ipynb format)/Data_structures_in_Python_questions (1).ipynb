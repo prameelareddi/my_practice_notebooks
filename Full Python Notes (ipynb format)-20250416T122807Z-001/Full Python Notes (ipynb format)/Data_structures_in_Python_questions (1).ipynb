{
 "cells": [
  {
   "cell_type": "markdown",
   "metadata": {
    "colab_type": "text",
    "id": "1h__F05n0cYN"
   },
   "source": [
    "# Practice Exercise"
   ]
  },
  {
   "cell_type": "markdown",
   "metadata": {
    "colab_type": "text",
    "id": "qEzf6y1409zw"
   },
   "source": [
    "Question 1: Print a random integer between 100 and 135"
   ]
  },
  {
   "cell_type": "code",
   "execution_count": null,
   "metadata": {
    "colab": {},
    "colab_type": "code",
    "id": "yisQGrBd0bzN"
   },
   "outputs": [],
   "source": [
    "# Import required libraries:\n",
    "\n",
    "\n",
    "# Print a random integer in the given range:"
   ]
  },
  {
   "cell_type": "markdown",
   "metadata": {
    "colab_type": "text",
    "id": "vxC8oK_G1w_O"
   },
   "source": [
    "Question 2: Create a list consisting of first 10 even numbers."
   ]
  },
  {
   "cell_type": "code",
   "execution_count": null,
   "metadata": {
    "colab": {},
    "colab_type": "code",
    "id": "CQ9oPVOf1UZB"
   },
   "outputs": [],
   "source": [
    "# Create a list according to the given condition:"
   ]
  },
  {
   "cell_type": "markdown",
   "metadata": {
    "colab_type": "text",
    "id": "GP-3AHb52piM"
   },
   "source": [
    "Question 3: Create a list in the following manner: [birthyear, firstname, birthdate, lastname]"
   ]
  },
  {
   "cell_type": "code",
   "execution_count": null,
   "metadata": {
    "colab": {},
    "colab_type": "code",
    "id": "D3bKLI8z2lSx"
   },
   "outputs": [],
   "source": [
    "# Create a list according to the given condition:\n",
    "birthyear=input('enter birth year')\n",
    "firstname=input('enter firstname')\n",
    "birthdate=input('enter birthdate')\n",
    "lastname=input('enter lastname')\n",
    "l=[birthyear,firstname,birthdate,lastname]\n",
    "print(l)"
   ]
  },
  {
   "cell_type": "markdown",
   "metadata": {
    "colab_type": "text",
    "id": "iKABjdd73bSO"
   },
   "source": [
    "Question 4: Create a nested list which consist of 2 students and their scores in mathematics and english:\n",
    "\n",
    "Students: Alex and Cody\n",
    "\n",
    "Alex scores 97 and 95 in mathematics and english respectively,\n",
    "\n",
    "Cody scores 89 and 92 in mathematics and english respectively.\n",
    "\n",
    "The list should be such that it first stores the name of students followed by the subjects and then their scores in nested lists."
   ]
  },
  {
   "cell_type": "code",
   "execution_count": null,
   "metadata": {
    "colab": {},
    "colab_type": "code",
    "id": "oyaA3mz73Zds"
   },
   "outputs": [],
   "source": [
    "# Create a list according to the given condition:\n",
    "\n"
   ]
  },
  {
   "cell_type": "markdown",
   "metadata": {
    "colab_type": "text",
    "id": "jycP6fUg4njv"
   },
   "source": [
    "Question 5: Given below is a list, find out whether is has the letter 'k' in it and print the result as true or false."
   ]
  },
  {
   "cell_type": "code",
   "execution_count": null,
   "metadata": {
    "colab": {},
    "colab_type": "code",
    "id": "r-05TqnN4hub"
   },
   "outputs": [],
   "source": [
    "# Given below is a list:\n",
    "list3=[1,2,'r',7,'k',6,'o','h','d',5,9]\n",
    "\n",
    "# Define the character you are searching for:\n",
    "\n",
    "# print the result:"
   ]
  },
  {
   "cell_type": "markdown",
   "metadata": {
    "colab_type": "text",
    "id": "NT-4hspO55TH"
   },
   "source": [
    "Question 6: In the tuple given below, print the 3rd element."
   ]
  },
  {
   "cell_type": "code",
   "execution_count": null,
   "metadata": {
    "colab": {},
    "colab_type": "code",
    "id": "J-CCGlN56gea"
   },
   "outputs": [],
   "source": [
    "# Given below is the tuple:\n",
    "tuple1=(1,'hello','world','567')\n",
    "\n",
    "# Print the 3rd element:\n",
    "print(tuple1[2])"
   ]
  },
  {
   "cell_type": "markdown",
   "metadata": {
    "colab_type": "text",
    "id": "wx6WT1K255WN"
   },
   "source": [
    "Question 7: Given below is a tuple. Sort the tuple and print the result."
   ]
  },
  {
   "cell_type": "code",
   "execution_count": null,
   "metadata": {
    "colab": {},
    "colab_type": "code",
    "id": "VWmBEUud7MQ4"
   },
   "outputs": [],
   "source": [
    "# Given below is the tuple:\n",
    "tuple2=(1,25,67,100,3,54)\n",
    "\n",
    "# Sort the tuple:\n",
    "tuple3=sorted(tuple2)\n",
    "\n",
    "# Print the result:\n",
    "print(tuple3)"
   ]
  },
  {
   "cell_type": "markdown",
   "metadata": {
    "colab_type": "text",
    "id": "nSSJcxQJ55ZU"
   },
   "source": [
    "Question 8: Given below is a list, convert into a set and print the output also print the length of the set."
   ]
  },
  {
   "cell_type": "code",
   "execution_count": null,
   "metadata": {
    "colab": {},
    "colab_type": "code",
    "id": "m8CcJfyB87eP"
   },
   "outputs": [],
   "source": [
    "# Given below is the list:\n",
    "list4=[1,2,4,6,3,2,5,4,7,4,6,5,3,2,2,1]\n",
    "\n",
    "# Convert the list into set:\n",
    "set1=set(list4)\n",
    "\n",
    "# Print the result:\n",
    "print(set1)\n",
    "# Print the length of the set:\n",
    "print(len(set1))"
   ]
  },
  {
   "cell_type": "markdown",
   "metadata": {
    "colab_type": "text",
    "id": "lbbGNfhh55cy"
   },
   "source": [
    "Question 9: Given below are two sets, perform the operations given below:\n",
    "1. Print their union\n",
    "2. Print their intersection\n",
    "3. Print their difference\n",
    "4. Print their symmetric difference"
   ]
  },
  {
   "cell_type": "code",
   "execution_count": null,
   "metadata": {
    "colab": {},
    "colab_type": "code",
    "id": "04IIzknZ9-ZP"
   },
   "outputs": [],
   "source": [
    "# Given below are two sets:\n",
    "a={1,2,3,5,6,7}\n",
    "b={4,5,8,9,2,3}\n",
    "\n",
    "# Print their union:\n",
    "c=a.union(b)\n",
    "print(c)\n",
    "# Print their intersection:\n",
    "z=a.intersection(b)\n",
    "print(z)\n",
    "\n",
    "# Print their difference:\n",
    "print(a.difference(b))\n",
    "\n",
    "# Print their symmetric difference:\n",
    "print(a.symmetric_difference(b))"
   ]
  },
  {
   "cell_type": "markdown",
   "metadata": {
    "colab_type": "text",
    "id": "aNFcEjza55fq"
   },
   "source": [
    "Question 10: Create a dictionary that stores the names and roll numbers of 5 students as given below:\n",
    "1. Sam, 21\n",
    "2. Cody, 12\n",
    "3. Addy, 3\n",
    "4. Zach, 45\n",
    "5. Amy, 6"
   ]
  },
  {
   "cell_type": "code",
   "execution_count": null,
   "metadata": {
    "colab": {},
    "colab_type": "code",
    "id": "Wf2kp70A_IfD"
   },
   "outputs": [],
   "source": [
    "# Create a dictionary:\n",
    "d={'sam':21,'cody':12,'addy':3,'zach':45,'amy':6}\n",
    "\n",
    "# Print the result:\n",
    "print(d)"
   ]
  },
  {
   "cell_type": "markdown",
   "metadata": {
    "colab_type": "text",
    "id": "iFKlCBIA5WjL"
   },
   "source": [
    "Question 11: Due to admission of new students the roll number of zach has changed from 45 to 47. Make the required changes and print the new dictionary."
   ]
  },
  {
   "cell_type": "code",
   "execution_count": null,
   "metadata": {
    "colab": {},
    "colab_type": "code",
    "id": "rE_fsHnYEZFk"
   },
   "outputs": [],
   "source": [
    "# Update the roll number:\n",
    "d['zach']=47\n",
    "\n",
    "# Print the new dictionary:\n",
    "print(d)"
   ]
  },
  {
   "cell_type": "raw",
   "metadata": {},
   "source": [
    "Indentation\n",
    "Python relies on indentation (whitespace at the beginning of a line) to define scope in the code. Other programming languages often use curly-brackets for this purpose."
   ]
  }
 ],
 "metadata": {
  "colab": {
   "name": "Data structures in Python.ipynb",
   "provenance": []
  },
  "kernelspec": {
   "display_name": "Python 3",
   "language": "python",
   "name": "python3"
  },
  "language_info": {
   "codemirror_mode": {
    "name": "ipython",
    "version": 3
   },
   "file_extension": ".py",
   "mimetype": "text/x-python",
   "name": "python",
   "nbconvert_exporter": "python",
   "pygments_lexer": "ipython3",
   "version": "3.8.5"
  }
 },
 "nbformat": 4,
 "nbformat_minor": 1
}
