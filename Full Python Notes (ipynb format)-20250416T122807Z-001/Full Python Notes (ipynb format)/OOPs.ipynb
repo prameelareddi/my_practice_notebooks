{
 "cells": [
  {
   "cell_type": "markdown",
   "metadata": {},
   "source": [
    "# Object Oriented Programming\n",
    "\n",
    "### Python language supports 3 types of programming\n",
    "    1]Functional Programming\n",
    "    2]Object Oriented Programming\n",
    "    3]Procedure Oriented Programming\n",
    "    \n",
    "    Attributes-Properties/Variables\n",
    "    Behaviour-Methods[Functions]\n",
    "    \n",
    "    Functions in OOP's are called as methods\n",
    "    \n",
    "    1]Object\n",
    "    2]Class\n",
    "    3]Encapsulation\n",
    "    4]Abstraction\n",
    "    5]Abstraction\n",
    "    6]Polymorphism\n",
    "    \n",
    "    * Designing Of Object- Class [Design of tower]\n",
    "    * Object- Instance/Entity/Real stuff [tower]\n",
    "    \n",
    "    Product    ---->    Blueprint\n",
    "       |                   |      \n",
    "    Object                Class\n",
    "   "
   ]
  },
  {
   "cell_type": "code",
   "execution_count": null,
   "metadata": {},
   "outputs": [],
   "source": [
    "#How to use the method\n",
    "#userdefined class \n",
    "class computer:\n",
    "    def config(self):\n",
    "        print('i5,16gb,1TB')  #method\n",
    "        \n",
    "com1=computer()  #object decleration\n",
    "com2=computer()  #object decleration\n",
    "\n",
    "computer.config(com1) #method of calling 1\n",
    "computer.config(com2) #method of calling 2\n",
    "\n",
    "com1.config() #method of calling 2\n",
    "com2.config() #method of calling 2"
   ]
  },
  {
   "cell_type": "markdown",
   "metadata": {},
   "source": [
    "# Special Variables\n",
    "\n",
    "    __init__: Any content present in this will get printed on the console even though it's not called (During Object Creation)\n",
    "    For Example:\n",
    "    class computer:\n",
    "    \n",
    "        def __init__(self):\n",
    "            print('Hi')\n",
    "            \n",
    "        def config(self):\n",
    "            print('i5,16gb,1TB')\n",
    "           \n",
    "      com1=computer()\n",
    "      com2=computer()\n",
    "      \n",
    "      com1.config()\n",
    "      com2.config()"
   ]
  },
  {
   "cell_type": "code",
   "execution_count": 9,
   "metadata": {},
   "outputs": [
    {
     "name": "stdout",
     "output_type": "stream",
     "text": [
      "Hi\n",
      "Hi\n",
      "i5,16gb,1TB\n",
      "i5,16gb,1TB\n"
     ]
    }
   ],
   "source": [
    " class computer:\n",
    "    \n",
    "        def __init__(self):\n",
    "            print('Hi')\n",
    "            \n",
    "        def config(self):\n",
    "            print('i5,16gb,1TB')\n",
    "           \n",
    "com1=computer()\n",
    "com2=computer()\n",
    "      \n",
    "com1.config()\n",
    "com2.config()"
   ]
  },
  {
   "cell_type": "code",
   "execution_count": 10,
   "metadata": {},
   "outputs": [
    {
     "name": "stdout",
     "output_type": "stream",
     "text": [
      "config is  i5 16\n",
      "config is  ryzen 3 8\n"
     ]
    }
   ],
   "source": [
    "class computer:\n",
    "    def __init__(self,cpu,ram):\n",
    "        self.cpu=cpu\n",
    "        self.ram=ram\n",
    "        \n",
    "        \n",
    "    def config(self):\n",
    "        print('config is ',self.cpu,self.ram)\n",
    "        \n",
    "com1=computer('i5',16)\n",
    "com2=computer('ryzen 3',8)\n",
    "\n",
    "com1.config()\n",
    "com2.config()\n",
    "        "
   ]
  },
  {
   "cell_type": "markdown",
   "metadata": {},
   "source": [
    "# Constructor And Self\n",
    "\n",
    "#### __init__ is a constructor\n",
    "    There is  special memory in computer named as heap memory where all objects are stored and for every new time when the object created then it will be allocated at new location.\n",
    "    "
   ]
  },
  {
   "cell_type": "code",
   "execution_count": 13,
   "metadata": {},
   "outputs": [
    {
     "name": "stdout",
     "output_type": "stream",
     "text": [
      "95126696\n"
     ]
    }
   ],
   "source": [
    "#Getting Id\n",
    "\n",
    "class computer:\n",
    "    pass\n",
    "    \n",
    "com1=computer()\n",
    "\n",
    "print(id(com1))\n",
    "#so every time we executes this code we can see new memory is allocated\n"
   ]
  },
  {
   "cell_type": "markdown",
   "metadata": {},
   "source": [
    "##### Size of an object ?\n",
    "    Depends on the no of variables and size\n",
    "    \n",
    "##### Who allocates size to object\n",
    "    Constructor\n",
    "    \n",
    "    "
   ]
  },
  {
   "cell_type": "code",
   "execution_count": 16,
   "metadata": {},
   "outputs": [],
   "source": [
    "class computer:\n",
    "    def __init__(self):\n",
    "        self.name='Rohit'\n",
    "        self.age=28\n",
    "c1=computer() #constructor\n",
    "c2=computer() #constructor\n",
    "\n",
    "#print(c1.name)\n",
    "#print(c1.age)"
   ]
  },
  {
   "cell_type": "code",
   "execution_count": 20,
   "metadata": {},
   "outputs": [
    {
     "name": "stdout",
     "output_type": "stream",
     "text": [
      "Rohit\n",
      "20\n",
      " shubham\n",
      "21\n"
     ]
    }
   ],
   "source": [
    "#assiging new value in class\n",
    "\n",
    "class computer:\n",
    "    def __init__(self):\n",
    "        self.name='Rohit'\n",
    "        self.age=20\n",
    "        \n",
    "c1=computer()\n",
    "c2=computer()\n",
    "\n",
    "c2.name='Shubham'\n",
    "c2.age=21\n",
    "\n",
    "print(c1.name)\n",
    "print(c1.age)\n",
    "print(c2.name)\n",
    "print(c2.age)"
   ]
  },
  {
   "cell_type": "code",
   "execution_count": null,
   "metadata": {},
   "outputs": [],
   "source": [
    "#why do we need self\n",
    "\n",
    "class computer:\n",
    "    def __init__(self):\n",
    "        self.name='rohit'\n",
    "        self.age=20\n",
    "        \n",
    "    def update(self):\n",
    "        self.age=25\n",
    "c1=computer()\n",
    "c2=computer()\n",
    "\n",
    "c1.update()\n",
    "print(c1.name)\n",
    "print(c1.age)"
   ]
  },
  {
   "cell_type": "code",
   "execution_count": 31,
   "metadata": {},
   "outputs": [
    {
     "name": "stdout",
     "output_type": "stream",
     "text": [
      "They are same\n"
     ]
    }
   ],
   "source": [
    "#what if we have to compare 2 objects\n",
    "\n",
    "class computer:\n",
    "    def __init__(self,name,age):\n",
    "        self.name=name\n",
    "        self.age=age\n",
    "        \n",
    "    def compare(self,other):\n",
    "        if self.age==other.age:\n",
    "            return True\n",
    "        else:\n",
    "            return False\n",
    "            \n",
    "c1=computer(\"Rohit\",18)\n",
    "c2=computer(\"Amey\",18)\n",
    "\n",
    "if c1.compare(c2)==True:\n",
    "    print('They are same')\n",
    "else:\n",
    "    print('they are not same')"
   ]
  },
  {
   "cell_type": "markdown",
   "metadata": {},
   "source": [
    "#### Types of variables\n",
    "    1]Instance Variable\n",
    "    2]Class(static) Variable\n",
    "    \n",
    "    Instance Variable-\n",
    "                        It changes at every single circumstances i.e. at every def(methods)\n",
    "    \n",
    "    When we decleare a variable inside init then it is called as Instance variables and for outside it is class variable\n",
    "    \n",
    "    Namespace:- Name is an areas when you create and store object/variable\n",
    "    \n",
    "        1]Class Namespace\n",
    "        2]Object Namespace"
   ]
  },
  {
   "cell_type": "code",
   "execution_count": 34,
   "metadata": {},
   "outputs": [
    {
     "name": "stdout",
     "output_type": "stream",
     "text": [
      "BMW 8 5\n",
      "BMW 8 5\n"
     ]
    }
   ],
   "source": [
    "class car:\n",
    "    wheel=4    #class namespace\n",
    "    \n",
    "    def __init__(self):\n",
    "        self.mil=8      #Instance Namespace\n",
    "        self.com='BMW'  #Instance Namespace\n",
    "        \n",
    "c1=car()\n",
    "c2=car()\n",
    "\n",
    "c1.mil=8\n",
    "\n",
    "car.wheels=5\n",
    "print(c1.com,c1.mil,c1.wheels)\n",
    "print(c2.com,c2.mil,c2.wheels)"
   ]
  },
  {
   "cell_type": "markdown",
   "metadata": {},
   "source": [
    "### Types of methods\n",
    "    1]Instance Methods\n",
    "    2]Class Methods\n",
    "    3]Static Methods\n",
    "    \n",
    "    "
   ]
  },
  {
   "cell_type": "code",
   "execution_count": 41,
   "metadata": {},
   "outputs": [
    {
     "name": "stdout",
     "output_type": "stream",
     "text": [
      "12.0\n"
     ]
    }
   ],
   "source": [
    "#Instance VARIABLE\n",
    "\n",
    "class student:\n",
    "    school='OCF EDUCATION'\n",
    "    \n",
    "    def __init__(self,m1,m2,m3):\n",
    "        self.m1=m1\n",
    "        self.m2=m2\n",
    "        self.m3=m3\n",
    "        \n",
    "    def avg(self):\n",
    "        return (self.m1+self.m2+self.m3)/3\n",
    "    \n",
    "s1=student(11,12,13)\n",
    "s2=student(15,16,17)\n",
    "\n",
    "print(s1.avg())\n",
    "\n",
    "#this is known as instance method as self is getting involved\n",
    "#note- here we need to do s1.avg() that means self taking value of s1 so this is instance variable\n"
   ]
  },
  {
   "cell_type": "markdown",
   "metadata": {},
   "source": [
    "    Instance Variable is further divided into 2 parts:\n",
    "    1] Accessor Method\n",
    "    2] Mutator Method\n",
    "    \n",
    "    1]Accessor Method- \n",
    "                       Here we can just access the value from method\n",
    "    2]Mutator Method-\n",
    "                       Here we can modify the values\n",
    "                       \n",
    "    To get value we use get method which is useer defined method\n",
    "    I.e. to fetch values and access the value\n",
    "    \n",
    "    To get or medify the value use set_ method\n",
    "    \n",
    "    "
   ]
  },
  {
   "cell_type": "code",
   "execution_count": 43,
   "metadata": {},
   "outputs": [
    {
     "name": "stdout",
     "output_type": "stream",
     "text": [
      "22\n"
     ]
    }
   ],
   "source": [
    "class student:\n",
    "    school='OCF EDUCATION'\n",
    "    \n",
    "    def __init__(self,m1,m2,m3):\n",
    "        self.m1=m1\n",
    "        self.m2=m2\n",
    "        self.m3=m3\n",
    "        \n",
    "    def avg(self):\n",
    "        return (self.m1+self.m2+self.m3)/3\n",
    "    def get(self):\n",
    "        print(self.m1)\n",
    "    def set_m1(self,value):\n",
    "        self.m1=value\n",
    "    \n",
    "s1=student(11,12,13)\n",
    "s2=student(15,16,17)\n",
    "\n",
    "\n",
    "s1.set_m1(22)\n",
    "s1.get()"
   ]
  },
  {
   "cell_type": "markdown",
   "metadata": {},
   "source": [
    "## Classmethod\n"
   ]
  },
  {
   "cell_type": "code",
   "execution_count": 45,
   "metadata": {},
   "outputs": [
    {
     "name": "stdout",
     "output_type": "stream",
     "text": [
      "22\n",
      "OCF EDUCATION\n"
     ]
    }
   ],
   "source": [
    "class student:\n",
    "    school='OCF EDUCATION'\n",
    "    \n",
    "    def __init__(self,m1,m2,m3):\n",
    "        self.m1=m1\n",
    "        self.m2=m2\n",
    "        self.m3=m3\n",
    "        \n",
    "    def avg(self):\n",
    "        return (self.m1+self.m2+self.m3)/3\n",
    "    def get(self):\n",
    "        print(self.m1)\n",
    "    def set_m1(self,value):\n",
    "        self.m1=value\n",
    "    \n",
    "    @classmethod  #this decorator if dint use this we will get error as we are not passing anythint herr\n",
    "    def info(cls):            #using class keyword is mandotory for class method\n",
    "        return cls.school\n",
    "    \n",
    "s1=student(11,12,13)\n",
    "s2=student(15,16,17)\n",
    "\n",
    "\n",
    "s1.set_m1(22)\n",
    "s1.get()\n",
    "\n",
    "print(student.info())"
   ]
  },
  {
   "cell_type": "markdown",
   "metadata": {},
   "source": [
    "###  Static Method\n",
    "                    HERE WE DONT NEED TO PASS SELF OF CLS"
   ]
  },
  {
   "cell_type": "code",
   "execution_count": 46,
   "metadata": {},
   "outputs": [
    {
     "name": "stdout",
     "output_type": "stream",
     "text": [
      "we are static method\n"
     ]
    }
   ],
   "source": [
    "class student:\n",
    "    school='OCF EDUCATION'\n",
    "    \n",
    "    def __init__(self,m1,m2,m3):\n",
    "        self.m1=m1\n",
    "        self.m2=m2\n",
    "        self.m3=m3\n",
    "        \n",
    "    @classmethod  #this decorator if dint use this we will get error as we are not passing anythint herr\n",
    "    def info(cls):            #using class keyword is mandotory for class method\n",
    "        return cls.school\n",
    "    \n",
    "    @staticmethod\n",
    "    def info():\n",
    "        print('we are static method')\n",
    "s1=student(11,12,13)\n",
    "student.info()"
   ]
  },
  {
   "cell_type": "markdown",
   "metadata": {},
   "source": [
    "# Nested class\n",
    "##### When you have work with more no of varibles i.e. more than 2 variable then the concept of nested calss comes into picture"
   ]
  },
  {
   "cell_type": "code",
   "execution_count": 55,
   "metadata": {},
   "outputs": [
    {
     "name": "stdout",
     "output_type": "stream",
     "text": [
      "hp i5 8\n",
      "None\n",
      "hp\n"
     ]
    }
   ],
   "source": [
    "class student:\n",
    "    def __init__(self,name,rollno):\n",
    "        self.name=name\n",
    "        self.rollno=rollno\n",
    "        self.lap=self.laptop()\n",
    "    def show(self):\n",
    "        print(self.name,self.rollno)\n",
    "        self.lap.show()\n",
    "        \n",
    "    class laptop:\n",
    "        def __init__(self):\n",
    "            self.brand='hp'\n",
    "            self.ram=8\n",
    "            self.cpu='i5'\n",
    "            \n",
    "        def show(self):\n",
    "            print(self.brand,self.cpu,self.ram)\n",
    "            \n",
    "s1=student('rohit',8512)\n",
    "\n",
    "#s1.show()\n",
    "\n",
    "#other ways of decleration\n",
    "#s1.lap.brand\n",
    "#lap1=student.laptop()\n",
    "#other 1 way for above decleration\n",
    "lap1=s1.lap\n",
    "print(lap1.show())\n",
    "print(lap1.brand)"
   ]
  },
  {
   "cell_type": "markdown",
   "metadata": {},
   "source": [
    "Note- You can create object of inner class inside outer class\n",
    "\n",
    "                        OR\n",
    "\n",
    "You can create object of inner class outside the outer class provided you use outer class name to call it"
   ]
  },
  {
   "cell_type": "code",
   "execution_count": null,
   "metadata": {},
   "outputs": [],
   "source": []
  }
 ],
 "metadata": {
  "kernelspec": {
   "display_name": "Python 3",
   "language": "python",
   "name": "python3"
  },
  "language_info": {
   "codemirror_mode": {
    "name": "ipython",
    "version": 3
   },
   "file_extension": ".py",
   "mimetype": "text/x-python",
   "name": "python",
   "nbconvert_exporter": "python",
   "pygments_lexer": "ipython3",
   "version": "3.8.5"
  }
 },
 "nbformat": 4,
 "nbformat_minor": 4
}
