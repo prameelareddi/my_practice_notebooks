{
 "cells": [
  {
   "cell_type": "markdown",
   "metadata": {},
   "source": [
    "# Dictionary "
   ]
  },
  {
   "cell_type": "markdown",
   "metadata": {},
   "source": [
    "1] Dictionary stores elements as keys and values\n",
    "\n",
    "2] The key is an index, it is always unique and immutable\n",
    "\n",
    "3] The value are the objects that contain information\n",
    "\n",
    "4] Values are accessed using their keys\n",
    "\n",
    "5] Each is followed by value and separated by colon\n",
    "\n",
    "6] The Value can be mutable,duplicate"
   ]
  },
  {
   "cell_type": "code",
   "execution_count": null,
   "metadata": {},
   "outputs": [],
   "source": [
    "#how to declare a dectionary\n",
    "d={'Rohit':'Iphone','Amey':'Honor','Shubham':'Lava'}"
   ]
  },
  {
   "cell_type": "code",
   "execution_count": null,
   "metadata": {},
   "outputs": [],
   "source": [
    "print(d)"
   ]
  },
  {
   "cell_type": "code",
   "execution_count": null,
   "metadata": {},
   "outputs": [],
   "source": [
    "#this function clear() will clear the dictionary\n",
    "#d.clear()"
   ]
  },
  {
   "cell_type": "code",
   "execution_count": null,
   "metadata": {},
   "outputs": [],
   "source": [
    "#this function will make a copy of an existing dictionary 'd' into d1\n",
    "d1=d.copy()\n",
    "print(d1)"
   ]
  },
  {
   "cell_type": "code",
   "execution_count": null,
   "metadata": {},
   "outputs": [],
   "source": [
    "#this is used for makinf nested dictionaries\n",
    "#syntax is  dict.fromkeys(iterable,value) where iterable can be anything like list ,tuple, set, dict itself\n",
    "d.fromkeys('Rohit',100)"
   ]
  },
  {
   "cell_type": "code",
   "execution_count": null,
   "metadata": {},
   "outputs": [],
   "source": [
    "key=(1,2,3)\n",
    "value=('OCF Education')\n",
    "d=dict.fromkeys(key,value)\n",
    "print(d)\n",
    "d1=dict.fromkeys(range(1,5),'Bhole')\n",
    "print(d1)"
   ]
  },
  {
   "cell_type": "code",
   "execution_count": null,
   "metadata": {},
   "outputs": [],
   "source": [
    "# this get function is used to get value of of specific key which is passed throgh argument\n",
    "d={'Rohit':'Iphone','Amey':'Honor','Shubham':'Lava'}\n",
    "d.get('Rohit')"
   ]
  },
  {
   "cell_type": "code",
   "execution_count": null,
   "metadata": {},
   "outputs": [],
   "source": [
    "#this will retuen all items present in a dict (keys and value pairs combinely called as items)\n",
    "d.items()"
   ]
  },
  {
   "cell_type": "code",
   "execution_count": null,
   "metadata": {},
   "outputs": [],
   "source": [
    "#this will retuen all keys present in a dict\n",
    "d.keys()"
   ]
  },
  {
   "cell_type": "code",
   "execution_count": null,
   "metadata": {},
   "outputs": [],
   "source": [
    "# this takes key as argument and removes that key and value pair from dict\n",
    "d.pop('Rohit')"
   ]
  },
  {
   "cell_type": "code",
   "execution_count": null,
   "metadata": {},
   "outputs": [],
   "source": [
    "print(d)"
   ]
  },
  {
   "cell_type": "code",
   "execution_count": null,
   "metadata": {},
   "outputs": [],
   "source": [
    "#this takes no arguments and removes last element fron dictionary\n",
    "d.popitem()"
   ]
  },
  {
   "cell_type": "code",
   "execution_count": null,
   "metadata": {},
   "outputs": [],
   "source": [
    "print(d)"
   ]
  },
  {
   "cell_type": "code",
   "execution_count": null,
   "metadata": {},
   "outputs": [],
   "source": [
    "#this will return all values present inside dictionary\n",
    "d.values()"
   ]
  },
  {
   "cell_type": "code",
   "execution_count": null,
   "metadata": {},
   "outputs": [],
   "source": [
    "#whenever programmer wants to concatenate 2 dictionaries then update function is used\n",
    "d1={'other':'moto'}\n",
    "d.update(d1)\n",
    "print(d)"
   ]
  },
  {
   "cell_type": "code",
   "execution_count": null,
   "metadata": {},
   "outputs": [],
   "source": [
    "#setdefault\n",
    "#this method returns the value of specified key\n",
    "# and key is not found then it inserts key with the specified value\n",
    "#syntax- dict_name.setdefault(key,value)\n",
    "d={'Rohit': 'Iphone', 'Amey': 'Honor', 'Shubham': 'Lava', 'other': 'moto'}\n",
    "d.setdefault('Bhau','Realme')"
   ]
  },
  {
   "cell_type": "code",
   "execution_count": null,
   "metadata": {},
   "outputs": [],
   "source": [
    "print(d)"
   ]
  },
  {
   "cell_type": "code",
   "execution_count": null,
   "metadata": {},
   "outputs": [],
   "source": [
    "d.setdefault('Rohit',\"oneplus\")"
   ]
  },
  {
   "cell_type": "markdown",
   "metadata": {},
   "source": [
    "Adding elements in dictionary"
   ]
  },
  {
   "cell_type": "code",
   "execution_count": 57,
   "metadata": {},
   "outputs": [],
   "source": [
    "d['Earth']='Moon'"
   ]
  },
  {
   "cell_type": "code",
   "execution_count": 58,
   "metadata": {},
   "outputs": [
    {
     "name": "stdout",
     "output_type": "stream",
     "text": [
      "{'Rohit': 'Iphone', 'Amey': 'Honor', 'Shubham': 'Lava', 'other': 'moto', 'Bhau': 'Realme', 'Earth': 'Moon'}\n"
     ]
    }
   ],
   "source": [
    "print(d)"
   ]
  },
  {
   "cell_type": "markdown",
   "metadata": {},
   "source": [
    "Updating Value in dictionaries"
   ]
  },
  {
   "cell_type": "code",
   "execution_count": 59,
   "metadata": {},
   "outputs": [],
   "source": [
    "d['Earth']='Sun'"
   ]
  },
  {
   "cell_type": "code",
   "execution_count": 60,
   "metadata": {},
   "outputs": [
    {
     "name": "stdout",
     "output_type": "stream",
     "text": [
      "{'Rohit': 'Iphone', 'Amey': 'Honor', 'Shubham': 'Lava', 'other': 'moto', 'Bhau': 'Realme', 'Earth': 'Sun'}\n"
     ]
    }
   ],
   "source": [
    "print(d)"
   ]
  },
  {
   "cell_type": "code",
   "execution_count": 62,
   "metadata": {},
   "outputs": [
    {
     "name": "stdout",
     "output_type": "stream",
     "text": [
      "{}\n"
     ]
    }
   ],
   "source": [
    "#empty dict\n",
    "dict={}\n",
    "print(dict)"
   ]
  },
  {
   "cell_type": "code",
   "execution_count": 63,
   "metadata": {},
   "outputs": [
    {
     "name": "stdout",
     "output_type": "stream",
     "text": [
      "['Amey', 'Bhau', 'Earth', 'Rohit', 'Shubham', 'other']\n"
     ]
    }
   ],
   "source": [
    "#In dictionary sorting is done on the basis of keys.\n",
    "#if the are strings then they are arranged alphabatically\n",
    "#if the are no then arranged in ascending order\n",
    "print(sorted(d))"
   ]
  }
 ],
 "metadata": {
  "kernelspec": {
   "display_name": "Python 3",
   "language": "python",
   "name": "python3"
  },
  "language_info": {
   "codemirror_mode": {
    "name": "ipython",
    "version": 3
   },
   "file_extension": ".py",
   "mimetype": "text/x-python",
   "name": "python",
   "nbconvert_exporter": "python",
   "pygments_lexer": "ipython3",
   "version": "3.8.5"
  }
 },
 "nbformat": 4,
 "nbformat_minor": 4
}
