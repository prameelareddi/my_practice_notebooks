{
 "cells": [
  {
   "cell_type": "markdown",
   "metadata": {},
   "source": [
    "# Data Structures\n",
    "### List\n",
    "### Tuple\n",
    "### Set\n",
    "### Dictionary"
   ]
  },
  {
   "cell_type": "markdown",
   "metadata": {},
   "source": [
    "# List\n",
    "1]A list is a data structure in Python that is a mutable, or changeable, ordered sequence of elements. Each element or value that is inside of a list is called an item.\n",
    "\n",
    "2]Mutables means changable in simple words like we can add,remove,update,delete multiple values from the given list.\n",
    "\n",
    "3]List is represented in simple square brackets i.e. [ ]\n"
   ]
  },
  {
   "cell_type": "code",
   "execution_count": 103,
   "metadata": {},
   "outputs": [],
   "source": [
    "#lets try to create a list\n",
    "list1=[1,2,3,4]\n",
    "print(list1)"
   ]
  },
  {
   "cell_type": "markdown",
   "metadata": {},
   "source": [
    "All elemnents present inside list are known as item\n",
    "\n",
    "\n",
    "List can hold all types of items inside it like float,int,string,char etc\n",
    "\n",
    "list can also contain list inside itself which is knwon as nested list"
   ]
  },
  {
   "cell_type": "code",
   "execution_count": 7,
   "metadata": {},
   "outputs": [],
   "source": [
    "list2=[7,8.4,'char','a']\n",
    "#this list contains items of all data types like int,float,str,char"
   ]
  },
  {
   "cell_type": "code",
   "execution_count": 102,
   "metadata": {},
   "outputs": [],
   "source": [
    "print(list2)"
   ]
  },
  {
   "cell_type": "markdown",
   "metadata": {},
   "source": [
    "# Indexing  and Slicing"
   ]
  },
  {
   "cell_type": "code",
   "execution_count": 37,
   "metadata": {},
   "outputs": [],
   "source": [
    "raw_list=[1,2,3,4,5]\n",
    "raw_list[0]"
   ]
  },
  {
   "cell_type": "code",
   "execution_count": 101,
   "metadata": {},
   "outputs": [],
   "source": [
    "#raw_list[0:]"
   ]
  },
  {
   "cell_type": "code",
   "execution_count": 100,
   "metadata": {},
   "outputs": [],
   "source": [
    "raw_list[1:]\n",
    "#this will return all the elements present after index position one"
   ]
  },
  {
   "cell_type": "code",
   "execution_count": 99,
   "metadata": {},
   "outputs": [],
   "source": [
    "raw_list[:3]\n",
    "#last is not included"
   ]
  },
  {
   "cell_type": "code",
   "execution_count": 98,
   "metadata": {},
   "outputs": [],
   "source": [
    "raw_list[::-1]\n",
    "#this is used to reverse a list"
   ]
  },
  {
   "cell_type": "code",
   "execution_count": 97,
   "metadata": {},
   "outputs": [],
   "source": [
    "raw_list[1:4:2]\n",
    "#this will return elemets at the space of 2"
   ]
  },
  {
   "cell_type": "markdown",
   "metadata": {},
   "source": [
    "### Nested list"
   ]
  },
  {
   "cell_type": "code",
   "execution_count": 92,
   "metadata": {},
   "outputs": [],
   "source": [
    "l1=['Rohit','Amey','Shubham']\n",
    "l2=['Iphone','Honor ','Honor Lite']\n",
    "l3=[l1,l2]"
   ]
  },
  {
   "cell_type": "code",
   "execution_count": 93,
   "metadata": {},
   "outputs": [],
   "source": [
    "print(l3)"
   ]
  },
  {
   "cell_type": "markdown",
   "metadata": {},
   "source": [
    "List supports multiple attributes in pyhton\n",
    "\n",
    "lets see them 1 by 1"
   ]
  },
  {
   "cell_type": "markdown",
   "metadata": {},
   "source": [
    "# To add values in a list\n",
    "we have 4 methods"
   ]
  },
  {
   "cell_type": "raw",
   "metadata": {},
   "source": [
    "1] l=l + ['new item']\n",
    "\n",
    "#the above method is used to add single element in an existing list and new added element will be present at last position\n",
    "\n",
    "2]l.append(value)\n",
    "\n",
    "#append will add new element at the end of an existing list.This method can add only 1 value at a time\n",
    "\n",
    "3]l.insert(position,value)\n",
    "#whenever user wants to add some value in list at some desired position then one can use the above method to add new element at\n",
    "some desired position\n",
    "\n",
    "4]l.extend([multiple values enclosed in square brackets])\n",
    "#whenever user wants to add multiple values in existing list then one can use the extend function\n",
    "\n",
    "Lets see their functioning"
   ]
  },
  {
   "cell_type": "code",
   "execution_count": 13,
   "metadata": {},
   "outputs": [],
   "source": [
    "l=[1,2,3,4]\n",
    "l=l+[5]\n",
    "print(l)\n",
    "#as we can see in output 5 is added at last position"
   ]
  },
  {
   "cell_type": "code",
   "execution_count": 15,
   "metadata": {},
   "outputs": [],
   "source": [
    "l=[6,7,8,9]\n",
    "l.append(10)\n",
    "print(l)\n",
    "# as we acn see the ouput 10 is added vat last index"
   ]
  },
  {
   "cell_type": "code",
   "execution_count": 18,
   "metadata": {},
   "outputs": [],
   "source": [
    "l=[1,3,4,5,6]\n",
    "l.insert(1,2)\n",
    "print(l)\n",
    "#so here we inserted 2 at index position 1"
   ]
  },
  {
   "cell_type": "code",
   "execution_count": 94,
   "metadata": {},
   "outputs": [],
   "source": [
    "l=[1,2,3,4,5]\n",
    "l.extend([6,7,8,9,0])\n",
    "print(l)\n",
    "# here we extended the values"
   ]
  },
  {
   "cell_type": "markdown",
   "metadata": {},
   "source": [
    "# Removing values from list\n",
    "Here also we have 4 most used methods"
   ]
  },
  {
   "cell_type": "markdown",
   "metadata": {},
   "source": [
    "l.clear()\n",
    "\n",
    "-This will clear list i.e. will remove all elements present inside existing list\n",
    "\n",
    "l.pop(index_position)\n",
    "\n",
    "-when programmer wants to remove some values depending upon their index position then pop can be used \n",
    "\n",
    "l.remove(value)\n",
    "\n",
    "-when programmer wants to remove some values depending upon their actual values from list position then remove can be used\n",
    "\n",
    "del  l[slicing]\n",
    "\n",
    "-whenever progarmmer wants to remove multiple values from given list then del is used"
   ]
  },
  {
   "cell_type": "code",
   "execution_count": 96,
   "metadata": {},
   "outputs": [],
   "source": [
    "#raw_list"
   ]
  },
  {
   "cell_type": "code",
   "execution_count": 33,
   "metadata": {},
   "outputs": [],
   "source": [
    "#raw_list.clear()\n",
    "#print(raw_list)"
   ]
  },
  {
   "cell_type": "code",
   "execution_count": 44,
   "metadata": {},
   "outputs": [],
   "source": [
    "raw_list=[1,2,3,4,5]"
   ]
  },
  {
   "cell_type": "code",
   "execution_count": 39,
   "metadata": {},
   "outputs": [],
   "source": [
    "#raw_list.pop(0)\n",
    "#print(raw_list)"
   ]
  },
  {
   "cell_type": "code",
   "execution_count": 40,
   "metadata": {},
   "outputs": [],
   "source": [
    "#raw_list.remove(1)\n",
    "#print(raw_list)"
   ]
  },
  {
   "cell_type": "code",
   "execution_count": 45,
   "metadata": {},
   "outputs": [],
   "source": [
    "#del raw_list[1:2]\n",
    "#print(raw_list)\n"
   ]
  },
  {
   "cell_type": "markdown",
   "metadata": {},
   "source": [
    "##  There are some more useful methods available for list"
   ]
  },
  {
   "cell_type": "markdown",
   "metadata": {},
   "source": [
    "1) index(number)\n",
    "-This will return the index position of no passed to it\n",
    "\n",
    "2) count()\n",
    "- This function is used to count frequency of given no\n",
    "\n",
    "3) min()\n",
    "- This will return min no from given list\n",
    "\n",
    "4) max()\n",
    "- This will return max no from given list\n",
    "\n",
    "5) sort()\n",
    "- This will sort list in ascending order\n",
    "- For descending order we can make it as sort(reverse=True)\n",
    "\n",
    "6) sorted()\n",
    "- This will sort the given list and store that in another list\n",
    "- i.e. a=sorted(b) so here a will be the sorted list will be will be unchanged list"
   ]
  },
  {
   "cell_type": "code",
   "execution_count": 79,
   "metadata": {},
   "outputs": [],
   "source": [
    "new_list=[23,32,54,76,2,31,31,3]"
   ]
  },
  {
   "cell_type": "code",
   "execution_count": 80,
   "metadata": {},
   "outputs": [],
   "source": [
    "new_list.index(31)"
   ]
  },
  {
   "cell_type": "code",
   "execution_count": 81,
   "metadata": {},
   "outputs": [],
   "source": [
    "new_list.count(31)"
   ]
  },
  {
   "cell_type": "code",
   "execution_count": 82,
   "metadata": {},
   "outputs": [],
   "source": [
    "min(new_list)"
   ]
  },
  {
   "cell_type": "code",
   "execution_count": 83,
   "metadata": {},
   "outputs": [],
   "source": [
    "max(new_list)"
   ]
  },
  {
   "cell_type": "code",
   "execution_count": 84,
   "metadata": {},
   "outputs": [],
   "source": [
    "sum(new_list)"
   ]
  },
  {
   "cell_type": "code",
   "execution_count": 85,
   "metadata": {},
   "outputs": [],
   "source": [
    "new_list.sort(reverse=True)\n",
    "print(new_list)"
   ]
  },
  {
   "cell_type": "code",
   "execution_count": 91,
   "metadata": {},
   "outputs": [],
   "source": [
    "sorted_list=sorted(new_list)\n",
    "print(sorted_list)\n",
    "print(new_list)"
   ]
  },
  {
   "cell_type": "code",
   "execution_count": 90,
   "metadata": {},
   "outputs": [],
   "source": [
    "for reverse order\n",
    "sorted_list=sorted(new_list,reverse=True)\n",
    "print(sorted_list)\n",
    "print(new_list)"
   ]
  },
  {
   "cell_type": "markdown",
   "metadata": {},
   "source": [
    "# Concept of Shallow Copy "
   ]
  },
  {
   "cell_type": "code",
   "execution_count": 104,
   "metadata": {},
   "outputs": [],
   "source": [
    "a=[1,2,3,4,5,6]\n",
    "b=a"
   ]
  },
  {
   "cell_type": "code",
   "execution_count": 113,
   "metadata": {},
   "outputs": [],
   "source": [
    "print(a)\n",
    "print(b)"
   ]
  },
  {
   "cell_type": "code",
   "execution_count": 111,
   "metadata": {},
   "outputs": [],
   "source": [
    "a.remove(4)\n",
    "print(a)\n",
    "print(b)\n",
    "#here we can see as we are tring to amake some changes in list a, they are automatically coming for b as well\n",
    "#all this is happening just because of concept of shallow copy\n"
   ]
  },
  {
   "cell_type": "code",
   "execution_count": 112,
   "metadata": {},
   "outputs": [],
   "source": [
    "b=a[:]\n",
    "a.remove(6)\n",
    "print(a)\n",
    "print(b)\n",
    "#here we can see made changes in a and cant see that changes in b now. this is becasue of deep copy\n"
   ]
  },
  {
   "cell_type": "markdown",
   "metadata": {},
   "source": [
    "Deep copy- This creates new object in python\n",
    "\n",
    "Shallow copy- This doesnot creates ant new object while just assigns new name to the old object created"
   ]
  },
  {
   "cell_type": "code",
   "execution_count": null,
   "metadata": {},
   "outputs": [],
   "source": []
  }
 ],
 "metadata": {
  "kernelspec": {
   "display_name": "Python 3",
   "language": "python",
   "name": "python3"
  },
  "language_info": {
   "codemirror_mode": {
    "name": "ipython",
    "version": 3
   },
   "file_extension": ".py",
   "mimetype": "text/x-python",
   "name": "python",
   "nbconvert_exporter": "python",
   "pygments_lexer": "ipython3",
   "version": "3.8.5"
  }
 },
 "nbformat": 4,
 "nbformat_minor": 4
}
