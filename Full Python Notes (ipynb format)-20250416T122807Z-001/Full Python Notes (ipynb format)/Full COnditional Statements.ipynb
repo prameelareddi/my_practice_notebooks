{
 "cells": [
  {
   "cell_type": "markdown",
   "metadata": {},
   "source": [
    "# Python Conditions and If statements\n",
    "Python supports the usual logical conditions from mathematics:\n",
    "\n",
    "    Equals: p == q\n",
    "    Not Equals: p != q\n",
    "    Less than: p < q\n",
    "    Less than or equal to: p <= q\n",
    "    Greater than: p > q\n",
    "    Greater than or equal to: p >= q\n",
    "    These conditions can be used in several ways, most commonly in \"if statements\" and loops.\n",
    "\n",
    "# If statement\n",
    "    An \"if statement\" is written by using the if keyword.\n",
    "\n",
    "    Example"
   ]
  },
  {
   "cell_type": "code",
   "execution_count": null,
   "metadata": {},
   "outputs": [],
   "source": [
    "p = 78\n",
    "q = 310\n",
    "if q > p:\n",
    "  print(\"q is greater than p\")"
   ]
  },
  {
   "cell_type": "markdown",
   "metadata": {},
   "source": [
    "# Indentation\n",
    "    Python relies on indentation (whitespace at the beginning of a line) to define scope in the code. Other programming languages often use curly-brackets for this purpose.\n",
    "    Example"
   ]
  },
  {
   "cell_type": "code",
   "execution_count": null,
   "metadata": {},
   "outputs": [],
   "source": [
    "#If statement, without indentation (will raise an error):\n",
    "p =99\n",
    "q =450\n",
    "if q>p:\n",
    "print(\"q is greater than p\") # you will get an error"
   ]
  },
  {
   "cell_type": "markdown",
   "metadata": {},
   "source": [
    "# Elif\n",
    "    The elif keyword is pythons way of saying \"if the previous conditions were not true, then try this condition\"."
   ]
  },
  {
   "cell_type": "code",
   "execution_count": null,
   "metadata": {},
   "outputs": [],
   "source": [
    "x = 69\n",
    "y = 69\n",
    "if y > x:\n",
    "  print(\"y is greater than x\")\n",
    "elif x == y:\n",
    "  print(\"x and y are equal\")\n",
    "#In this example a is equal to b, so the first condition is not true, but the elif condition is true, \n",
    "#so we print to screen that \"a and b are equal\"."
   ]
  },
  {
   "cell_type": "markdown",
   "metadata": {},
   "source": [
    "# Else\n",
    "    The else keyword catches anything which isn't caught by the preceding conditions.\n",
    "    \n",
    "    "
   ]
  },
  {
   "cell_type": "code",
   "execution_count": null,
   "metadata": {},
   "outputs": [],
   "source": [
    "x = 99\n",
    "y = 77\n",
    "if y > x:\n",
    "  print(\"y is greater than x\")\n",
    "elif x == y:\n",
    "  print(\"x and y are equal\")\n",
    "else:\n",
    "  print(\"x is greater than y\")\n",
    "\n",
    "'''In this example a is greater than b, so the first condition is not true, also the elif condition is not true, \n",
    "so we go to the else condition and print to screen that \"a is greater than b\".In this example a is greater than b, so the first condition is not true, also the elif condition is \n",
    "not true, so we go to the else condition and print to screen that \"a is greater than b\".'''"
   ]
  },
  {
   "cell_type": "markdown",
   "metadata": {},
   "source": [
    "# Short Hand If\n",
    "    If you have only one statement to execute, you can put it on the same line as the if statement.\n",
    "### Example\n",
    "    One line if else statement"
   ]
  },
  {
   "cell_type": "code",
   "execution_count": null,
   "metadata": {},
   "outputs": [],
   "source": [
    "x = 8\n",
    "y = 310\n",
    "print(\"X\") if x > y else print(\"Y\")"
   ]
  },
  {
   "cell_type": "markdown",
   "metadata": {},
   "source": [
    "# Ternary Operators, or Conditional Expressions."
   ]
  },
  {
   "cell_type": "code",
   "execution_count": null,
   "metadata": {},
   "outputs": [],
   "source": [
    "x = 690\n",
    "y = 690\n",
    "print(\"X\") if x > y else print(\"=\") if x == y else print(\"Y\")"
   ]
  },
  {
   "cell_type": "markdown",
   "metadata": {},
   "source": [
    "# And\n",
    "\n",
    "    The and keyword is a logical operator, and is used to combine conditional statements:\n",
    "### Example\n",
    "    Test if x is greater than y, AND if z is greater than a:"
   ]
  },
  {
   "cell_type": "code",
   "execution_count": null,
   "metadata": {},
   "outputs": [],
   "source": [
    "x = 250\n",
    "y = 58\n",
    "z = 577\n",
    "if x > y and z > x:\n",
    "  print(\"Both conditions are True\")"
   ]
  },
  {
   "cell_type": "markdown",
   "metadata": {},
   "source": [
    "# Or\n",
    "    The or keyword is a logical operator, and is used to combine conditional statements:\n",
    "    \n",
    "### Example\n",
    "    Test if x is greater than y, OR if x is greater than z:"
   ]
  },
  {
   "cell_type": "code",
   "execution_count": null,
   "metadata": {},
   "outputs": [],
   "source": [
    "x = 199\n",
    "y = 42\n",
    "z = 599\n",
    "if x > y or x > z:\n",
    "  print(\"At least one of the conditions is True\")"
   ]
  },
  {
   "cell_type": "markdown",
   "metadata": {},
   "source": [
    "# Nested If\n",
    "    You can have if statements inside if statements, this is called nested if statements.\n",
    "    \n",
    "### Example\n"
   ]
  },
  {
   "cell_type": "code",
   "execution_count": null,
   "metadata": {},
   "outputs": [],
   "source": [
    "x = 41\n",
    "\n",
    "if x > 10:\n",
    "  print(\"Above ten,\")\n",
    "  if x > 20:\n",
    "    print(\"and also above 20!\")\n",
    "  else:\n",
    "    print(\"but not above 20.\")"
   ]
  },
  {
   "cell_type": "code",
   "execution_count": null,
   "metadata": {},
   "outputs": [],
   "source": []
  },
  {
   "cell_type": "code",
   "execution_count": null,
   "metadata": {},
   "outputs": [],
   "source": []
  },
  {
   "cell_type": "code",
   "execution_count": null,
   "metadata": {},
   "outputs": [],
   "source": []
  }
 ],
 "metadata": {
  "kernelspec": {
   "display_name": "Python 3",
   "language": "python",
   "name": "python3"
  },
  "language_info": {
   "codemirror_mode": {
    "name": "ipython",
    "version": 3
   },
   "file_extension": ".py",
   "mimetype": "text/x-python",
   "name": "python",
   "nbconvert_exporter": "python",
   "pygments_lexer": "ipython3",
   "version": "3.8.5"
  }
 },
 "nbformat": 4,
 "nbformat_minor": 4
}
