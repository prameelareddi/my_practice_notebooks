{
 "cells": [
  {
   "cell_type": "markdown",
   "metadata": {},
   "source": [
    "# Functions \n",
    "\n",
    "### There are 2 types of functions\n",
    "\n",
    "#### 1]Non-Recursive Function\n",
    "       - This is further divided into 2 parts\n",
    "           - a] Non-returning\n",
    "           - b] Returning\n",
    "#### 1]Recursive Function"
   ]
  },
  {
   "cell_type": "markdown",
   "metadata": {},
   "source": [
    "# What is functions\n",
    "\n",
    "A function is a block of code which only runs when it is called.\n",
    "\n",
    "You can pass data, known as parameters, into a function.\n",
    "\n",
    "A function can return data as a result."
   ]
  },
  {
   "cell_type": "markdown",
   "metadata": {},
   "source": [
    "# Syntax\n",
    "\n",
    "##### def function_name(arguments/parameter)\n",
    "    \n",
    "    function body"
   ]
  },
  {
   "cell_type": "markdown",
   "metadata": {},
   "source": [
    "# Creating a Function\n",
    "\n",
    "#### In Python a function is defined using the def keyword:"
   ]
  },
  {
   "cell_type": "code",
   "execution_count": null,
   "metadata": {},
   "outputs": [],
   "source": [
    "def greet():\n",
    "    print('Good Morning')\n",
    "    print('How can I help you')"
   ]
  },
  {
   "cell_type": "markdown",
   "metadata": {},
   "source": [
    "# Calling a Function\n",
    "    To call a function, use the function name followed by parenthesis:"
   ]
  },
  {
   "cell_type": "code",
   "execution_count": null,
   "metadata": {},
   "outputs": [],
   "source": [
    "def greet():\n",
    "    print('Good Morning')\n",
    "    print('How can I help you')\n",
    "    \n",
    "#thie below line shows how to call any function\n",
    "greet()"
   ]
  },
  {
   "cell_type": "markdown",
   "metadata": {},
   "source": [
    "Function consist of 4 major components:\n",
    "    \n",
    "    - def keyword\n",
    "    - function name\n",
    "    - argument/parameter\n",
    "    - function body"
   ]
  },
  {
   "cell_type": "markdown",
   "metadata": {},
   "source": [
    "# Arguments\n",
    "\n",
    "    Information can be passed into functions as arguments.\n",
    "    Arguments are specified after the function name, inside the parentheses. You can add as many arguments as you want, just separate them with a comma.\n",
    "    lets see an example below"
   ]
  },
  {
   "cell_type": "code",
   "execution_count": null,
   "metadata": {},
   "outputs": [],
   "source": [
    " def name(f_name):\n",
    "        print(f_name+' is good boy')\n",
    "name('Rohit')\n",
    "name('You')"
   ]
  },
  {
   "cell_type": "markdown",
   "metadata": {},
   "source": [
    "# Parameters or Arguments?\n",
    "    The terms parameter and argument can be used for the same thing: information that are passed into a function."
   ]
  },
  {
   "cell_type": "markdown",
   "metadata": {},
   "source": [
    "### From a function's perspective:\n",
    "\n",
    "    A parameter is the variable listed inside the parentheses in the function definition.\n",
    "\n",
    "    An argument is the value that is sent to the function when it is called.\n",
    "    \n",
    "    Concept of Actual and formal\n",
    "    parameter=formal\n",
    "    argument=actual"
   ]
  },
  {
   "cell_type": "markdown",
   "metadata": {},
   "source": [
    "# Number of Arguments\n",
    "    By default, a function must be called with the correct number of arguments. Meaning that if your function expects 2 arguments, you have to call the function with 2 arguments, not more, and not less."
   ]
  },
  {
   "cell_type": "code",
   "execution_count": null,
   "metadata": {},
   "outputs": [],
   "source": [
    "def name(f_name,l_name):\n",
    "    print(f_name)\n",
    "    print(l_name)\n",
    "\n",
    "name('Rohit','Madke')\n",
    "#if we pass just 1 argument then it will throw an error"
   ]
  },
  {
   "cell_type": "markdown",
   "metadata": {},
   "source": [
    "# 4 Type of Arguments\n",
    "    1]Position\n",
    "    2]Keyword\n",
    "    3]Default\n",
    "    4]Variable length\n",
    "    \n",
    "lets see them 1 by 1"
   ]
  },
  {
   "cell_type": "markdown",
   "metadata": {},
   "source": [
    "# Position\n",
    "    -Position is always important i.e. how we are passing the parameter\n",
    "    -Passing orders matter alot\n",
    "    -Understaning with an exaple - if we are passing name, first in actual parameter followed by age then accepting order in function's parameter must be same as of passing"
   ]
  },
  {
   "cell_type": "code",
   "execution_count": null,
   "metadata": {},
   "outputs": [],
   "source": [
    "def raw_function(name,age):\n",
    "    print(name)\n",
    "    print(age)\n",
    "    \n",
    "raw_function('Rohit',20)\n",
    "print()\n",
    "#raw_function(20,\"Rohit\")\n",
    "#this 2nd output is wrong. hence position matter alot in functions \n"
   ]
  },
  {
   "cell_type": "markdown",
   "metadata": {},
   "source": [
    "# Keyword Arguments\n",
    "    You can also send arguments with the key = value syntax.\n",
    "\n",
    "    This way the order of the arguments does not matter."
   ]
  },
  {
   "cell_type": "code",
   "execution_count": null,
   "metadata": {},
   "outputs": [],
   "source": [
    "def raw_function(name,age):\n",
    "    print(name)\n",
    "    print(age)\n",
    "    \n",
    "raw_function(age='20',name=\"Rohit\")"
   ]
  },
  {
   "cell_type": "markdown",
   "metadata": {},
   "source": [
    "# Default Parameter Value\n",
    "    The following example shows how to use a default parameter value.\n",
    "\n",
    "    If we call the function without argument, it uses the default value:"
   ]
  },
  {
   "cell_type": "code",
   "execution_count": null,
   "metadata": {},
   "outputs": [],
   "source": [
    "def raw_function(name,age='Unknown'):\n",
    "    print(name)\n",
    "    print(age)\n",
    "    \n",
    "raw_function(name=\"Rohit\")\n",
    "\n",
    "raw_function('Rohit',20)"
   ]
  },
  {
   "cell_type": "markdown",
   "metadata": {},
   "source": [
    "# Arbitrary Arguments, *args\n",
    "    If you do not know how many arguments that will be passed into your function, add a * before the parameter name in the function definition.\n",
    "\n",
    "    This way the function will receive a tuple of arguments, and can access the items accordingly:"
   ]
  },
  {
   "cell_type": "code",
   "execution_count": 21,
   "metadata": {},
   "outputs": [
    {
     "name": "stdout",
     "output_type": "stream",
     "text": [
      "(2, 3, 4, 5, 6)\n",
      "2\n",
      "3\n",
      "4\n",
      "5\n",
      "6\n"
     ]
    }
   ],
   "source": [
    "def raw_function(*b):\n",
    "    print(b)\n",
    "    for i in b:\n",
    "        print(i)\n",
    "    \n",
    "raw_function(2,3,4,5,6)"
   ]
  },
  {
   "cell_type": "markdown",
   "metadata": {},
   "source": [
    "# Arbitrary Keyword Arguments, **kwargs\n",
    "    If you do not know how many keyword arguments that will be passed into your function, add two asterisk: ** before the parameter name in the function definition.\n",
    "\n",
    "    This way the function will receive a dictionary of arguments, and can access the items accordingly:"
   ]
  },
  {
   "cell_type": "code",
   "execution_count": 23,
   "metadata": {},
   "outputs": [
    {
     "name": "stdout",
     "output_type": "stream",
     "text": [
      "Rohit\n",
      "age 18\n",
      "Hobby Cricket,coding\n",
      "Phone Jio\n"
     ]
    }
   ],
   "source": [
    "def raw_function(name,**data):\n",
    "    print(name)\n",
    "    for i,j in data.items():\n",
    "        print(i,j)\n",
    "    \n",
    "raw_function('Rohit',age='18',Hobby='Cricket,coding',Phone='Jio')"
   ]
  },
  {
   "cell_type": "code",
   "execution_count": 24,
   "metadata": {},
   "outputs": [],
   "source": [
    "#Till now were just understanig the functions with differnt types of parameter\n",
    "#now its time to see returning functions"
   ]
  },
  {
   "cell_type": "code",
   "execution_count": 25,
   "metadata": {},
   "outputs": [
    {
     "name": "stdout",
     "output_type": "stream",
     "text": [
      "30\n"
     ]
    }
   ],
   "source": [
    "def add(x,y):\n",
    "    z=x+y\n",
    "    #this return statement is important\n",
    "    return z\n",
    "\n",
    "z=add(10,20)\n",
    "print(z)"
   ]
  },
  {
   "cell_type": "code",
   "execution_count": 27,
   "metadata": {},
   "outputs": [
    {
     "name": "stdout",
     "output_type": "stream",
     "text": [
      "5\n",
      "1\n",
      "6\n"
     ]
    }
   ],
   "source": [
    "def add_sub_mul(x,y):\n",
    "    a=x+y\n",
    "    b=x-y\n",
    "    c=x*y\n",
    "    return a,b,c\n",
    "a,b,c=add_sub_mul(3,2)\n",
    "print(a)\n",
    "print(b)\n",
    "print(c)"
   ]
  },
  {
   "cell_type": "markdown",
   "metadata": {},
   "source": [
    "## Local Variable,Global Variable and scope"
   ]
  },
  {
   "cell_type": "markdown",
   "metadata": {},
   "source": [
    "Local Variable-\n",
    "    \n",
    "    A variable declared inside the function's body or in the local scope is known as a local variable.\n",
    "\n",
    "Scope-\n",
    "    \n",
    "    A variable is only available from inside the region it is created. This is called scope.\n",
    "    Scope refers to the visibility of variables. In other words, which parts of your program can see or use it. Normally, every variable has a global scope. Once defined, every part of your program can access a variable. It is very useful to be able to limit a variable's scope to a single function\n",
    "    \n",
    "Global Variable-\n",
    "\n",
    "    Variables that are created outside of a function (as in all of the examples above) are known as global variables. Global variables can be used by everyone, both inside of functions and outside.\n"
   ]
  },
  {
   "cell_type": "code",
   "execution_count": 30,
   "metadata": {
    "scrolled": true
   },
   "outputs": [
    {
     "name": "stdout",
     "output_type": "stream",
     "text": [
      "value of a in local variable  15\n",
      "value of a in global variable  10\n"
     ]
    }
   ],
   "source": [
    "a=10\n",
    "\n",
    "def scope():\n",
    "    #local a\n",
    "    a=15\n",
    "    print('value of a in local variable ',a)\n",
    "    \n",
    "scope()\n",
    "print('value of a in global variable ',a)"
   ]
  },
  {
   "cell_type": "markdown",
   "metadata": {},
   "source": [
    "# globals()['variable_name']=value   -\n",
    "    \n",
    "    when programmer wants to change the value of global varibale inside a function without disturbing local variable then    globals is used\n",
    "    \n"
   ]
  },
  {
   "cell_type": "code",
   "execution_count": 32,
   "metadata": {},
   "outputs": [
    {
     "name": "stdout",
     "output_type": "stream",
     "text": [
      "value of local s inside function  9\n",
      "value of global s ourisde function  10\n"
     ]
    }
   ],
   "source": [
    "s=20\n",
    "\n",
    "def funt():\n",
    "    s=9\n",
    "    print('value of local s inside function ',s)\n",
    "    globals()['s']=10\n",
    "funt() \n",
    "print('value of global s ourisde function ',s)"
   ]
  },
  {
   "cell_type": "code",
   "execution_count": 37,
   "metadata": {},
   "outputs": [
    {
     "name": "stdout",
     "output_type": "stream",
     "text": [
      "0 1 2 3 4 5 6 7 8 9 "
     ]
    }
   ],
   "source": [
    "#### Passsing of list to function\n",
    "l=list(range(10))\n",
    "def list_fun(l1):\n",
    "    for i in l1:\n",
    "        print(i,end=' ')\n",
    "list_fun(l)"
   ]
  },
  {
   "cell_type": "markdown",
   "metadata": {},
   "source": [
    "# More on functions\n",
    "    Anonymous Function(Lambda function)"
   ]
  },
  {
   "cell_type": "markdown",
   "metadata": {},
   "source": [
    "    Functions without name are known asanonymous function or we can call them as lambda function\n",
    "    Lambda Functions are another way of defining functions to execute small functionality occuring while implementing complex functionality.These function can take multiple parameter as input but can only execute single expression.In other words they can only perform single operation"
   ]
  },
  {
   "cell_type": "code",
   "execution_count": 40,
   "metadata": {},
   "outputs": [
    {
     "name": "stdout",
     "output_type": "stream",
     "text": [
      "25\n",
      "25\n"
     ]
    }
   ],
   "source": [
    "#whenever we have just 1 line of code we use lambda function\n",
    "#normal way of doing it\n",
    "\n",
    "def square(a):\n",
    "    return a*a\n",
    "f=square(5)\n",
    "print(f)\n",
    "\n",
    "#using lambda\n",
    "f=lambda a:a*a\n",
    "print(f(5))"
   ]
  },
  {
   "cell_type": "code",
   "execution_count": 42,
   "metadata": {},
   "outputs": [
    {
     "name": "stdout",
     "output_type": "stream",
     "text": [
      "9\n",
      "9\n"
     ]
    }
   ],
   "source": [
    "#more example\n",
    "def add(x,y):\n",
    "    return x+y\n",
    "f=add(5,4)\n",
    "print(f)\n",
    "\n",
    "#using lambda\n",
    "a= lambda x,y:x+y\n",
    "print(a(5,4))"
   ]
  },
  {
   "cell_type": "code",
   "execution_count": 44,
   "metadata": {},
   "outputs": [
    {
     "name": "stdout",
     "output_type": "stream",
     "text": [
      "even\n"
     ]
    }
   ],
   "source": [
    "#sample example\n",
    "f=lambda x:'even' if x%2==0 else 'odd'\n",
    "print(f(2))"
   ]
  },
  {
   "cell_type": "markdown",
   "metadata": {},
   "source": [
    "# map()\n",
    "    syntax of map\n",
    "    map(function,iterable_object)\n",
    "    function can be anonymous or user defined while iterable_object can be list,tuple,set,dict,string\n",
    "    "
   ]
  },
  {
   "cell_type": "markdown",
   "metadata": {},
   "source": [
    "### map():\n",
    "            we can understand this using following examples"
   ]
  },
  {
   "cell_type": "code",
   "execution_count": 45,
   "metadata": {},
   "outputs": [
    {
     "data": {
      "text/plain": [
       "['INDIA', 'PAKI', 'GERMAN']"
      ]
     },
     "execution_count": 45,
     "metadata": {},
     "output_type": "execute_result"
    }
   ],
   "source": [
    "l=['india','paki','german']\n",
    "f=map(lambda x:x.upper(),l)\n",
    "list(f)"
   ]
  },
  {
   "cell_type": "code",
   "execution_count": 48,
   "metadata": {},
   "outputs": [
    {
     "data": {
      "text/plain": [
       "[1, 4, 9, 16, 25, 36]"
      ]
     },
     "execution_count": 48,
     "metadata": {},
     "output_type": "execute_result"
    }
   ],
   "source": [
    "l=list(range(1,7))\n",
    "f=map(lambda x:x*x,l)\n",
    "list(f)"
   ]
  },
  {
   "cell_type": "markdown",
   "metadata": {},
   "source": [
    "###### Implementation of Map():\n",
    "                             During execution of the map() function ,the lambda function x:x*2 would return a lambda object , but the map handles the job of passing each element of the iterable to the lambda object and storing the value obtained in a map object. And to print the values stored in map we use list function"
   ]
  },
  {
   "cell_type": "markdown",
   "metadata": {},
   "source": [
    "# filter():\n",
    "               Filter is similar to map function,only distinguishing feature being that it requires the function to look for a condition and then returns only those elements from the collection that satisfy the condition.\n",
    "               \n",
    "               syntax:\n",
    "               filter(function,iterable_object)"
   ]
  },
  {
   "cell_type": "code",
   "execution_count": 50,
   "metadata": {},
   "outputs": [
    {
     "data": {
      "text/plain": [
       "[3, 6, 9]"
      ]
     },
     "execution_count": 50,
     "metadata": {},
     "output_type": "execute_result"
    }
   ],
   "source": [
    "#e.g.\n",
    "my_list=[3,4,5,6,7,8,9]\n",
    "div_by_3=lambda x:x%3==0\n",
    "div=filter(div_by_3,my_list)\n",
    "list(div)"
   ]
  },
  {
   "cell_type": "markdown",
   "metadata": {},
   "source": [
    "    some condtions of filter\n",
    "    1] the function object passed to the filter should always return boolean values\n",
    "    2] the iterable object can be string,list,tuple,set,dict"
   ]
  },
  {
   "cell_type": "code",
   "execution_count": 52,
   "metadata": {},
   "outputs": [
    {
     "data": {
      "text/plain": [
       "[['abhi', 24]]"
      ]
     },
     "execution_count": 52,
     "metadata": {},
     "output_type": "execute_result"
    }
   ],
   "source": [
    "d={1:['rohit',21],2:['abhi',24],3:['raj',22]}\n",
    "f=filter(lambda x:x[1]>22,d.values())\n",
    "list(f)"
   ]
  },
  {
   "cell_type": "markdown",
   "metadata": {},
   "source": [
    "### Reduce():\n",
    "                reduce is an operation that break down the entire process into pair-wise operation and uses the result from rach operation ,with thes successive element .\n",
    "                syntax:\n",
    "                reduce(function,iterable_object)\n",
    "           "
   ]
  },
  {
   "cell_type": "markdown",
   "metadata": {},
   "source": [
    "- feature of reduce\n",
    "    \n",
    "    1]the iterable object can be string,lidt,tuple,set or dict\n",
    "\n",
    "    2]also reduce function produces single output"
   ]
  },
  {
   "cell_type": "code",
   "execution_count": 62,
   "metadata": {},
   "outputs": [
    {
     "name": "stdout",
     "output_type": "stream",
     "text": [
      "[1, 2, 3, 4, 5, 6]\n",
      "720\n"
     ]
    }
   ],
   "source": [
    "from functools import reduce\n",
    "l=list(range(1,7))\n",
    "print(l)\n",
    "f=reduce(lambda x,y:x*y,l)\n",
    "print(f)\n"
   ]
  },
  {
   "cell_type": "code",
   "execution_count": 63,
   "metadata": {},
   "outputs": [
    {
     "name": "stdout",
     "output_type": "stream",
     "text": [
      "60\n"
     ]
    }
   ],
   "source": [
    "l=list(range(11))\n",
    "even=filter(lambda x:x%2==0,l)\n",
    "doubles=map(lambda x:x*2,even)\n",
    "sumx=reduce(lambda x,y:x+y,doubles)\n",
    "print(sumx)"
   ]
  },
  {
   "cell_type": "code",
   "execution_count": null,
   "metadata": {},
   "outputs": [],
   "source": []
  }
 ],
 "metadata": {
  "kernelspec": {
   "display_name": "Python 3",
   "language": "python",
   "name": "python3"
  },
  "language_info": {
   "codemirror_mode": {
    "name": "ipython",
    "version": 3
   },
   "file_extension": ".py",
   "mimetype": "text/x-python",
   "name": "python",
   "nbconvert_exporter": "python",
   "pygments_lexer": "ipython3",
   "version": "3.8.5"
  }
 },
 "nbformat": 4,
 "nbformat_minor": 4
}
