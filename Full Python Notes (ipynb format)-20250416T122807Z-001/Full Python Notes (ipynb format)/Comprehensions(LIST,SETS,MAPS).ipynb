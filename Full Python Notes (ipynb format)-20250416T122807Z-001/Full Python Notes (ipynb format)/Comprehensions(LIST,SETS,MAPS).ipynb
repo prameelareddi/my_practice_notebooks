{
 "cells": [
  {
   "cell_type": "markdown",
   "metadata": {},
   "source": [
    "# List Comprehensions "
   ]
  },
  {
   "cell_type": "markdown",
   "metadata": {},
   "source": [
    "## What is comprehension\n",
    "- comprehension contains very compact code usually a single line statement that perform a task"
   ]
  },
  {
   "cell_type": "markdown",
   "metadata": {},
   "source": [
    " 1] There are 3 types of comprehensions\n",
    " - List Comprehensions\n",
    " - Set Comprehensions\n",
    " - Dictionary Comprehensions"
   ]
  },
  {
   "cell_type": "markdown",
   "metadata": {},
   "source": [
    "####  List Comprehensions- List Comprehensions represents creation of new list from an iterable object that satisfy given conditon\n",
    "\n",
    "#### Syntax:\n",
    "##### new_list=[ expression for item in iterable_object if statement ]\n",
    "- There can be zero or more if statement\n",
    "- There can be zero or more for statement"
   ]
  },
  {
   "cell_type": "code",
   "execution_count": null,
   "metadata": {},
   "outputs": [],
   "source": [
    "#examples\n",
    "#here we are writing code for finding even nos \n",
    "#traditional way\n",
    "l=list(range(20))\n",
    "l1=[]\n",
    "for i in l:\n",
    "    if i%2==0:\n",
    "        l1.append(i)\n",
    "print(l1)"
   ]
  },
  {
   "cell_type": "code",
   "execution_count": null,
   "metadata": {},
   "outputs": [],
   "source": [
    "#now lets see comprehensive way\n",
    "l2=[i for i in range(20) if i%2==0]"
   ]
  },
  {
   "cell_type": "code",
   "execution_count": null,
   "metadata": {},
   "outputs": [],
   "source": [
    "#finding squares of same even nos\n",
    "l2=[i*i for i in range(20) if i%2==0]\n",
    "print(l2)"
   ]
  },
  {
   "cell_type": "markdown",
   "metadata": {},
   "source": [
    "Using if else in list Comprehension"
   ]
  },
  {
   "cell_type": "code",
   "execution_count": null,
   "metadata": {},
   "outputs": [],
   "source": [
    "new_list=[i if i%2==0 else \"invalid\" for i in range(20)]\n",
    "print(new_list)"
   ]
  },
  {
   "cell_type": "markdown",
   "metadata": {},
   "source": [
    "Use of 2 if simultaneously"
   ]
  },
  {
   "cell_type": "code",
   "execution_count": null,
   "metadata": {},
   "outputs": [],
   "source": [
    "raw_list=[x for x in range(20) if x%2==0 if x%3==0]\n",
    "print(raw_list)"
   ]
  },
  {
   "cell_type": "markdown",
   "metadata": {},
   "source": [
    "#  Set Comprehensions"
   ]
  },
  {
   "cell_type": "markdown",
   "metadata": {},
   "source": [
    "Set Comprehensions- Set Comprehensions represents creation of new set from an iterable object that satisfy given conditon\n",
    "\n",
    "Syntax:\n",
    "\n",
    "new_set=[ expression for item in iterable_object if statement ]\n",
    "\n",
    "There can be zero or more if statement\n",
    "\n",
    "There can be zero or more for statement"
   ]
  },
  {
   "cell_type": "code",
   "execution_count": null,
   "metadata": {},
   "outputs": [],
   "source": [
    "#traditional way if filtering sets\n",
    "s={1,2,3,4,5,6,7,8,9,10}\n",
    "s1={0}\n",
    "for i in s:\n",
    "    if i%2==0:\n",
    "        s1.add(i)\n",
    "print(s1)        "
   ]
  },
  {
   "cell_type": "code",
   "execution_count": null,
   "metadata": {},
   "outputs": [],
   "source": [
    "#comprehensive way\n",
    "s={i for i in range(11) if i%2==0}\n",
    "print(s)\n",
    "# we can also obtain squares of it\n",
    "s={i**2 for i in range(11) if i%2==0}\n",
    "print(s)\n",
    "#use of dual if simultaneously\n",
    "s={i*i for i in range(11) if i%2==0 if i%3==0}\n",
    "print(s)"
   ]
  },
  {
   "cell_type": "markdown",
   "metadata": {},
   "source": [
    "# Dictionary Comprehension "
   ]
  },
  {
   "cell_type": "markdown",
   "metadata": {},
   "source": [
    "Dictionary Comprehensions- Set Comprehensions represents creation of new Dictionary from an iterable object that satisfy given conditon\n",
    "\n",
    "Syntax:\n",
    "\n",
    "new_Dictionary=[ expression for item in iterable_object if statement ]\n",
    "\n",
    "There can be zero or more if statement\n",
    "\n",
    "There can be zero or more for statement"
   ]
  },
  {
   "cell_type": "code",
   "execution_count": null,
   "metadata": {},
   "outputs": [],
   "source": [
    "#lets undestand this with 1 example\n",
    "l1=['benz','honda','maruti','rolls royce']\n",
    "#create a dictionary consisting of element and length of each element from above list\n",
    "d={i:len(i) for i in l1}\n",
    "print(d)"
   ]
  },
  {
   "cell_type": "code",
   "execution_count": null,
   "metadata": {},
   "outputs": [],
   "source": [
    "#create a dict consisting of even natural numbers as key and square element value\n",
    "d={i:i*i for i in range(0,11,2)}\n",
    "print(d)\n",
    "d={i:i*i if i%2==0 else 'invalid' for i in range(0,11)}\n",
    "print(d)"
   ]
  }
 ],
 "metadata": {
  "kernelspec": {
   "display_name": "Python 3",
   "language": "python",
   "name": "python3"
  },
  "language_info": {
   "codemirror_mode": {
    "name": "ipython",
    "version": 3
   },
   "file_extension": ".py",
   "mimetype": "text/x-python",
   "name": "python",
   "nbconvert_exporter": "python",
   "pygments_lexer": "ipython3",
   "version": "3.8.5"
  }
 },
 "nbformat": 4,
 "nbformat_minor": 4
}
