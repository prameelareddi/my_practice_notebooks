{
 "cells": [
  {
   "cell_type": "markdown",
   "metadata": {},
   "source": [
    "# Patterns\n",
    "This module consist of all patterns for better understanding of nested loops and to boost up your logical thinking"
   ]
  },
  {
   "cell_type": "markdown",
   "metadata": {},
   "source": [
    "let's start\n",
    "remember 1 thing\n",
    "i stands for row\n",
    "j stands for column"
   ]
  },
  {
   "cell_type": "markdown",
   "metadata": {},
   "source": [
    "lets print this pattern\n",
    "\n",
    "*\n",
    "**\n",
    "***\n",
    "****"
   ]
  },
  {
   "cell_type": "code",
   "execution_count": 5,
   "metadata": {
    "scrolled": true
   },
   "outputs": [
    {
     "name": "stdout",
     "output_type": "stream",
     "text": [
      "enter no of rows you want3\n",
      "*\n",
      "**\n",
      "***\n"
     ]
    }
   ],
   "source": [
    "n=int(input('enter no of rows you want'))\n",
    "for i in range(1,n+1):\n",
    "    for j in range(0,i):\n",
    "        print('*',end='')\n",
    "    print()\n",
    "\n",
    "#if we change * to any other variable then we will get that variable as output e.g try wd #,1,2,A etc"
   ]
  },
  {
   "cell_type": "raw",
   "metadata": {},
   "source": [
    "practise set\n",
    "1\n",
    "23\n",
    "456\n",
    "6789\n",
    "\n",
    "1\n",
    "22\n",
    "333\n",
    "4444\n",
    "\n",
    "1\n",
    "12\n",
    "123\n",
    "1234\n",
    "12345"
   ]
  },
  {
   "cell_type": "raw",
   "metadata": {},
   "source": [
    "1\n",
    "21\n",
    "123\n",
    "4321\n",
    "\n",
    "This is even odd row problem lets see the solution"
   ]
  },
  {
   "cell_type": "code",
   "execution_count": 8,
   "metadata": {},
   "outputs": [
    {
     "name": "stdout",
     "output_type": "stream",
     "text": [
      "enter no of rows you want4\n",
      "1\n",
      "21\n",
      "123\n",
      "4321\n"
     ]
    }
   ],
   "source": [
    "n=int(input('enter no of rows you want'))\n",
    "\n",
    "for i in range(1,n+1):\n",
    "    if i%2==0:\n",
    "        for j in range(1,i+1):\n",
    "            print(i,end='')\n",
    "            i-=1\n",
    "    else:\n",
    "        for j in range(1,i+1):\n",
    "            print(j,end='')\n",
    "    print()\n",
    "        \n",
    "    "
   ]
  },
  {
   "cell_type": "raw",
   "metadata": {},
   "source": [
    "12345\n",
    "1234\n",
    "123\n",
    "12\n",
    "1\n",
    "\n",
    "These are lower tringled patterns\n",
    "so let's seew how to solve this type of problems"
   ]
  },
  {
   "cell_type": "code",
   "execution_count": 9,
   "metadata": {},
   "outputs": [
    {
     "name": "stdout",
     "output_type": "stream",
     "text": [
      "enter no of rows you want5\n",
      "12345\n",
      "1234\n",
      "123\n",
      "12\n",
      "1\n"
     ]
    }
   ],
   "source": [
    "n=int(input('enter no of rows you want'))\n",
    "\n",
    "for i in range(n,0,-1):\n",
    "    k=1\n",
    "    for j in range(0,i):\n",
    "        print(k,end='')\n",
    "        k+=1\n",
    "    print()"
   ]
  },
  {
   "cell_type": "raw",
   "metadata": {},
   "source": [
    "   *\n",
    "  **\n",
    " ***\n",
    "****\n",
    "now this type of patterns"
   ]
  },
  {
   "cell_type": "code",
   "execution_count": 13,
   "metadata": {},
   "outputs": [
    {
     "name": "stdout",
     "output_type": "stream",
     "text": [
      "enter no of rows you want5\n",
      "    *\n",
      "   **\n",
      "  ***\n",
      " ****\n",
      "*****\n"
     ]
    }
   ],
   "source": [
    "n=int(input('enter no of rows you want'))\n",
    "sp=n-1\n",
    "for i in range(1,n+1):\n",
    "    for j in range(0,sp):\n",
    "        print(' ',end='')\n",
    "    for j in range(0,i):\n",
    "        print('*',end='')\n",
    "    print()\n",
    "    sp-=1"
   ]
  },
  {
   "cell_type": "raw",
   "metadata": {},
   "source": [
    "    * \n",
    "   * * \n",
    "  * * * \n",
    " * * * * \n",
    "* * * * *\n",
    "\n",
    "tringular pattern"
   ]
  },
  {
   "cell_type": "code",
   "execution_count": 14,
   "metadata": {},
   "outputs": [
    {
     "name": "stdout",
     "output_type": "stream",
     "text": [
      "enter no of rows you want5\n",
      "    * \n",
      "   * * \n",
      "  * * * \n",
      " * * * * \n",
      "* * * * * \n"
     ]
    }
   ],
   "source": [
    "n=int(input('enter no of rows you want'))\n",
    "sp=n-1\n",
    "for i in range(1,n+1):\n",
    "    for j in range(0,sp):\n",
    "        print(' ',end='')\n",
    "    for j in range(0,i):\n",
    "        print('* ',end='')\n",
    "    print()\n",
    "    sp-=1\n",
    "    \n",
    "#just add 1 space with astrict in second j loop and ypu will get desired ouput"
   ]
  },
  {
   "cell_type": "raw",
   "metadata": {},
   "source": [
    "lets code to change above trigle in downwards direction"
   ]
  },
  {
   "cell_type": "code",
   "execution_count": 1,
   "metadata": {},
   "outputs": [
    {
     "name": "stdout",
     "output_type": "stream",
     "text": [
      "enter no of rows you want5\n",
      "* * * * * \n",
      " * * * * \n",
      "  * * * \n",
      "   * * \n",
      "    * \n"
     ]
    }
   ],
   "source": [
    "n=int(input('enter no of rows you want'))\n",
    "sp=0\n",
    "for i in range(n,0,-1):\n",
    "    for j in range(0,sp):\n",
    "        print(' ',end='')\n",
    "    for j in range(0,i):\n",
    "        print('* ',end='')\n",
    "    print()\n",
    "    sp+=1"
   ]
  },
  {
   "cell_type": "raw",
   "metadata": {},
   "source": [
    "lets  code to join above 2 programs\n",
    "    * \n",
    "   * *\n",
    "  * * * \n",
    " * * * *\n",
    "  * * *\n",
    "   * * \n",
    "    *\n",
    "    \n",
    "This program can also called as concadination of above 2 programs\n",
    "let's see the code"
   ]
  },
  {
   "cell_type": "code",
   "execution_count": 9,
   "metadata": {},
   "outputs": [
    {
     "name": "stdout",
     "output_type": "stream",
     "text": [
      "enter no of rows you want4\n",
      "   * \n",
      "  * * \n",
      " * * * \n",
      "* * * * \n",
      " * * * \n",
      "  * * \n",
      "   * \n",
      "And here we got the required results\n"
     ]
    }
   ],
   "source": [
    "n=int(input('enter no of rows you want'))\n",
    "sp=n-1\n",
    "for i in range(1,n+1):\n",
    "    for j in range(0,sp):\n",
    "        print(' ',end='')\n",
    "    for j in range(0,i):\n",
    "        print('* ',end='')\n",
    "    print()\n",
    "    sp-=1\n",
    "\n",
    "sp=1\n",
    "for i in range(n-1,0,-1):\n",
    "    for j in range(0,sp):\n",
    "        print(' ',end='')\n",
    "    for j in range(0,i):\n",
    "        print('* ',end='')\n",
    "        \n",
    "    sp+=1\n",
    "    print()\n",
    "print('And here we got the required results')"
   ]
  },
  {
   "cell_type": "raw",
   "metadata": {},
   "source": [
    "We will learn how to break down given pattern into smaller parts so that we can apply methods on it\n"
   ]
  },
  {
   "cell_type": "markdown",
   "metadata": {},
   "source": [
    "# Q] "
   ]
  },
  {
   "cell_type": "raw",
   "metadata": {},
   "source": [
    "    1\n",
    "   121\n",
    "  12312\n",
    " 1234123"
   ]
  },
  {
   "cell_type": "code",
   "execution_count": 15,
   "metadata": {},
   "outputs": [
    {
     "name": "stdout",
     "output_type": "stream",
     "text": [
      "enter no of rows you want4\n",
      "   1\n",
      "  121\n",
      " 12312\n",
      "1234123\n",
      "\n",
      "And here we got the required results\n"
     ]
    }
   ],
   "source": [
    "n=int(input('enter no of rows you want'))\n",
    "sp=n-1\n",
    "for i in range(1,n+1):\n",
    "    for j in range(0,sp):\n",
    "        print(' ',end='')\n",
    "    for j in range(1,i+1):\n",
    "        print(j,end='')\n",
    "    for j in range(1,i):\n",
    "        print(j,end='')\n",
    "    print()\n",
    "    sp-=1\n",
    "    \n",
    "print('\\nAnd here we got the required results')"
   ]
  },
  {
   "cell_type": "markdown",
   "metadata": {},
   "source": [
    "# SPECIAL PATTERNS "
   ]
  },
  {
   "cell_type": "markdown",
   "metadata": {},
   "source": [
    "# Q "
   ]
  },
  {
   "cell_type": "raw",
   "metadata": {},
   "source": [
    "5 4 3 2 *\n",
    "5 4 3 * 1\n",
    "5 4 * 2 1\n",
    "5 * 3 2 1\n",
    "* 4 3 2 1"
   ]
  },
  {
   "cell_type": "code",
   "execution_count": 23,
   "metadata": {},
   "outputs": [
    {
     "name": "stdout",
     "output_type": "stream",
     "text": [
      "enter no of rows you want5\n",
      "5  4  3  2  *  \n",
      "5  4  3  *  1  \n",
      "5  4  *  2  1  \n",
      "5  *  3  2  1  \n",
      "*  4  3  2  1  \n"
     ]
    }
   ],
   "source": [
    "n=int(input('enter no of rows you want'))\n",
    "for i in range(1,n+1):\n",
    "    for j in range(n,0,-1):\n",
    "        if i==j:\n",
    "            print('*  ',end='')\n",
    "        else:\n",
    "            print(j,' ',end='')\n",
    "    print()"
   ]
  },
  {
   "cell_type": "markdown",
   "metadata": {},
   "source": [
    "# Pascals tringle \n"
   ]
  },
  {
   "cell_type": "code",
   "execution_count": 7,
   "metadata": {},
   "outputs": [
    {
     "name": "stdout",
     "output_type": "stream",
     "text": [
      "enter no of rows you want5\n",
      "[[1], [1, 1], [1, 2, 1], [1, 3, 3, 1], [1, 4, 6, 4, 1]]\n",
      "    1 \n",
      "   1 1 \n",
      "  1 2 1 \n",
      " 1 3 3 1 \n",
      "1 4 6 4 1 \n"
     ]
    }
   ],
   "source": [
    "n=int(input('enter no of rows you want'))\n",
    "list1=[]\n",
    "for i in range(n):\n",
    "    temp_list=[]\n",
    "    for j in range(i+1):\n",
    "        if j==0 or j==i:\n",
    "            temp_list.append(1)\n",
    "        else:\n",
    "            temp_list.append(list1[i-1][j-1]+list1[i-1][j])\n",
    "    list1.append(temp_list)\n",
    "print(list1)\n",
    "\n",
    "sp=n-1\n",
    "for i in range(n):\n",
    "    for j in range(0,sp):\n",
    "        print(' ',end='')\n",
    "    for j in range(i+1):\n",
    "        print(list1[i][j],'',end='')\n",
    "    print()\n",
    "    sp-=1"
   ]
  },
  {
   "cell_type": "code",
   "execution_count": null,
   "metadata": {},
   "outputs": [],
   "source": []
  }
 ],
 "metadata": {
  "kernelspec": {
   "display_name": "Python 3",
   "language": "python",
   "name": "python3"
  },
  "language_info": {
   "codemirror_mode": {
    "name": "ipython",
    "version": 3
   },
   "file_extension": ".py",
   "mimetype": "text/x-python",
   "name": "python",
   "nbconvert_exporter": "python",
   "pygments_lexer": "ipython3",
   "version": "3.8.5"
  }
 },
 "nbformat": 4,
 "nbformat_minor": 4
}
