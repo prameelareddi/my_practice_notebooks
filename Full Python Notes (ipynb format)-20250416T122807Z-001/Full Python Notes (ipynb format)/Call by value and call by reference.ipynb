{
 "cells": [
  {
   "cell_type": "markdown",
   "metadata": {},
   "source": [
    "## Introduction"
   ]
  },
  {
   "cell_type": "markdown",
   "metadata": {},
   "source": [
    "In Call by value, a copy of the variable is passed whereas in Call by reference, a variable itself is passed. In Call by value, actual and formal arguments will be created in different memory locations whereas in Call by reference, actual and formal arguments will be created in the same memory location"
   ]
  },
  {
   "cell_type": "markdown",
   "metadata": {},
   "source": [
    "# Call by Value "
   ]
  },
  {
   "cell_type": "markdown",
   "metadata": {},
   "source": [
    "#### Immutable\n",
    "#### where we can not make changes\n"
   ]
  },
  {
   "cell_type": "code",
   "execution_count": 4,
   "metadata": {},
   "outputs": [
    {
     "name": "stdout",
     "output_type": "stream",
     "text": [
      "id of j in outside the function is 1724544336\n",
      "old id of x in function is  1724544336\n",
      "new id of x is  1724544272\n"
     ]
    }
   ],
   "source": [
    "#for example\n",
    "\n",
    "def new(x):\n",
    "    print('old id of x in function is ',id(x))\n",
    "    x=7\n",
    "    print('new id of x is ',id(x))\n",
    "j=11\n",
    "print('id of j in outside the function is',id(j))\n",
    "new(j)"
   ]
  },
  {
   "cell_type": "markdown",
   "metadata": {},
   "source": [
    "# Call by reference "
   ]
  },
  {
   "cell_type": "markdown",
   "metadata": {},
   "source": [
    "where values are mutable\n",
    "\n",
    "here we can chnage the values suporting same address location"
   ]
  },
  {
   "cell_type": "code",
   "execution_count": 5,
   "metadata": {},
   "outputs": [
    {
     "name": "stdout",
     "output_type": "stream",
     "text": [
      "old id of list out function is 98056040\n",
      "old id of list in function is 98056040\n",
      "new id of list in function is 98056040\n"
     ]
    }
   ],
   "source": [
    "l=[1,2,3,4,5]\n",
    "\n",
    "def new(l):\n",
    "    print('old id of list in function is',id(l))\n",
    "    l[1]=25\n",
    "    print('new id of list in function is',id(l))\n",
    "    \n",
    "print('old id of list out function is',id(l))\n",
    "new(l)"
   ]
  }
 ],
 "metadata": {
  "kernelspec": {
   "display_name": "Python 3",
   "language": "python",
   "name": "python3"
  },
  "language_info": {
   "codemirror_mode": {
    "name": "ipython",
    "version": 3
   },
   "file_extension": ".py",
   "mimetype": "text/x-python",
   "name": "python",
   "nbconvert_exporter": "python",
   "pygments_lexer": "ipython3",
   "version": "3.8.5"
  }
 },
 "nbformat": 4,
 "nbformat_minor": 4
}
