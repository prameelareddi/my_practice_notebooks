{
 "cells": [
  {
   "cell_type": "code",
   "execution_count": null,
   "metadata": {},
   "outputs": [],
   "source": [
    "The tkinter package (“Tk interface”) is the standard Python interface to the Tk GUI toolkit ( Desktop Applicatio)\n",
    "\n",
    "PIL _ Python imaging Library \n",
    "\n",
    "The ImageTk module contains support to create and modify Tkinter BitmapImage and PhotoImage objects from PIL images."
   ]
  },
  {
   "cell_type": "code",
   "execution_count": 4,
   "metadata": {},
   "outputs": [],
   "source": [
    "import numpy as np\n",
    "from keras.preprocessing import image\n",
    "#imagetk is used  to convert image into Tkinter Compatabile format\n",
    "from tkinter import *\n",
    "from PIL import ImageTk, Image\n",
    "\n",
    "#filedialog is used to select the file \n",
    "\n",
    "from tkinter import filedialog\n",
    "import os\n",
    "from keras.models import load_model\n",
    "classifier = load_model('cnn_cd.h5')\n",
    "root = Tk() # tk() will create an Empty window \n",
    "root.geometry(\"550x300+300+150\") # ( hegiht*Width + positing from left side + position from Top Side)\n",
    "\n",
    "root.resizable(width=True, height=True)\n",
    "\n",
    "#askopen filename will create function to select the image \n",
    "\n",
    "def openfn():\n",
    "    filename = filedialog.askopenfilename(title='Select Image')\n",
    "    return filename\n",
    "\n",
    "def open_img():\n",
    "    x = openfn()\n",
    "    test_image = image.load_img(x, target_size = (64, 64))\n",
    "    test_image = image.img_to_array(test_image)\n",
    "    test_image = np.array([test_image])\n",
    "    if(np.max(test_image)>1):\n",
    "            test_image = test_image/255.0\n",
    "    result = classifier.predict_classes(test_image)\n",
    "    print(result)\n",
    "    index=['Cat','Dog']\n",
    "    # label function is used to display a text\n",
    "    label = Label( root, text=\"Prediction : \"+index[result[0][0]])\n",
    "    label.pack()\n",
    "    # opening the  image\n",
    "    img = Image.open(x)\n",
    "    # resize the image to target image , image.ANTIALIAS is format to display target image\n",
    "    img = img.resize((250, 250), Image.ANTIALIAS)\n",
    "    # converting image into tkinter format\n",
    "    img = ImageTk.PhotoImage(img)\n",
    "    #display the image\n",
    "    panel = Label(root, image=img)\n",
    "    panel.image = img\n",
    "    #display the image and close\n",
    "    panel.pack()\n",
    "# placing the Button in the application \n",
    "btn = Button(root, text='Open Image', command=open_img).pack()\n",
    "\n",
    "root.mainloop()"
   ]
  },
  {
   "cell_type": "code",
   "execution_count": null,
   "metadata": {},
   "outputs": [],
   "source": []
  }
 ],
 "metadata": {
  "kernelspec": {
   "display_name": "Python 3",
   "language": "python",
   "name": "python3"
  },
  "language_info": {
   "codemirror_mode": {
    "name": "ipython",
    "version": 3
   },
   "file_extension": ".py",
   "mimetype": "text/x-python",
   "name": "python",
   "nbconvert_exporter": "python",
   "pygments_lexer": "ipython3",
   "version": "3.7.4"
  }
 },
 "nbformat": 4,
 "nbformat_minor": 2
}
