{
 "cells": [
  {
   "cell_type": "code",
   "execution_count": 2,
   "metadata": {},
   "outputs": [],
   "source": [
    "import pandas as pd\n",
    "import numpy as np\n",
    "import matplotlib.pyplot as plt"
   ]
  },
  {
   "cell_type": "markdown",
   "metadata": {},
   "source": [
    "# Read the data"
   ]
  },
  {
   "cell_type": "code",
   "execution_count": 3,
   "metadata": {},
   "outputs": [],
   "source": [
    "train=pd.read_csv(\"D:\\\\Course\\\\Python\\\\Datasets\\\\Google_Stock_Price_Train.csv\")\n",
    "\n",
    "# predict the stock for year 2017"
   ]
  },
  {
   "cell_type": "code",
   "execution_count": 4,
   "metadata": {
    "collapsed": true
   },
   "outputs": [
    {
     "data": {
      "text/html": [
       "<div>\n",
       "<style scoped>\n",
       "    .dataframe tbody tr th:only-of-type {\n",
       "        vertical-align: middle;\n",
       "    }\n",
       "\n",
       "    .dataframe tbody tr th {\n",
       "        vertical-align: top;\n",
       "    }\n",
       "\n",
       "    .dataframe thead th {\n",
       "        text-align: right;\n",
       "    }\n",
       "</style>\n",
       "<table border=\"1\" class=\"dataframe\">\n",
       "  <thead>\n",
       "    <tr style=\"text-align: right;\">\n",
       "      <th></th>\n",
       "      <th>Date</th>\n",
       "      <th>Open</th>\n",
       "      <th>High</th>\n",
       "      <th>Low</th>\n",
       "      <th>Close</th>\n",
       "      <th>Volume</th>\n",
       "    </tr>\n",
       "  </thead>\n",
       "  <tbody>\n",
       "    <tr>\n",
       "      <td>0</td>\n",
       "      <td>01-03-2012</td>\n",
       "      <td>325.25</td>\n",
       "      <td>332.83</td>\n",
       "      <td>324.97</td>\n",
       "      <td>663.59</td>\n",
       "      <td>73,80,500</td>\n",
       "    </tr>\n",
       "    <tr>\n",
       "      <td>1</td>\n",
       "      <td>01-04-2012</td>\n",
       "      <td>331.27</td>\n",
       "      <td>333.87</td>\n",
       "      <td>329.08</td>\n",
       "      <td>666.45</td>\n",
       "      <td>57,49,400</td>\n",
       "    </tr>\n",
       "    <tr>\n",
       "      <td>2</td>\n",
       "      <td>01-05-2012</td>\n",
       "      <td>329.83</td>\n",
       "      <td>330.75</td>\n",
       "      <td>326.89</td>\n",
       "      <td>657.21</td>\n",
       "      <td>65,90,300</td>\n",
       "    </tr>\n",
       "    <tr>\n",
       "      <td>3</td>\n",
       "      <td>01-06-2012</td>\n",
       "      <td>328.34</td>\n",
       "      <td>328.77</td>\n",
       "      <td>323.68</td>\n",
       "      <td>648.24</td>\n",
       "      <td>54,05,900</td>\n",
       "    </tr>\n",
       "    <tr>\n",
       "      <td>4</td>\n",
       "      <td>01-09-2012</td>\n",
       "      <td>322.04</td>\n",
       "      <td>322.29</td>\n",
       "      <td>309.46</td>\n",
       "      <td>620.76</td>\n",
       "      <td>1,16,88,800</td>\n",
       "    </tr>\n",
       "    <tr>\n",
       "      <td>...</td>\n",
       "      <td>...</td>\n",
       "      <td>...</td>\n",
       "      <td>...</td>\n",
       "      <td>...</td>\n",
       "      <td>...</td>\n",
       "      <td>...</td>\n",
       "    </tr>\n",
       "    <tr>\n",
       "      <td>1253</td>\n",
       "      <td>12/23/2016</td>\n",
       "      <td>790.90</td>\n",
       "      <td>792.74</td>\n",
       "      <td>787.28</td>\n",
       "      <td>789.91</td>\n",
       "      <td>6,23,400</td>\n",
       "    </tr>\n",
       "    <tr>\n",
       "      <td>1254</td>\n",
       "      <td>12/27/2016</td>\n",
       "      <td>790.68</td>\n",
       "      <td>797.86</td>\n",
       "      <td>787.66</td>\n",
       "      <td>791.55</td>\n",
       "      <td>7,89,100</td>\n",
       "    </tr>\n",
       "    <tr>\n",
       "      <td>1255</td>\n",
       "      <td>12/28/2016</td>\n",
       "      <td>793.70</td>\n",
       "      <td>794.23</td>\n",
       "      <td>783.20</td>\n",
       "      <td>785.05</td>\n",
       "      <td>11,53,800</td>\n",
       "    </tr>\n",
       "    <tr>\n",
       "      <td>1256</td>\n",
       "      <td>12/29/2016</td>\n",
       "      <td>783.33</td>\n",
       "      <td>785.93</td>\n",
       "      <td>778.92</td>\n",
       "      <td>782.79</td>\n",
       "      <td>7,44,300</td>\n",
       "    </tr>\n",
       "    <tr>\n",
       "      <td>1257</td>\n",
       "      <td>12/30/2016</td>\n",
       "      <td>782.75</td>\n",
       "      <td>782.78</td>\n",
       "      <td>770.41</td>\n",
       "      <td>771.82</td>\n",
       "      <td>17,70,000</td>\n",
       "    </tr>\n",
       "  </tbody>\n",
       "</table>\n",
       "<p>1258 rows × 6 columns</p>\n",
       "</div>"
      ],
      "text/plain": [
       "            Date    Open    High     Low   Close       Volume\n",
       "0     01-03-2012  325.25  332.83  324.97  663.59    73,80,500\n",
       "1     01-04-2012  331.27  333.87  329.08  666.45    57,49,400\n",
       "2     01-05-2012  329.83  330.75  326.89  657.21    65,90,300\n",
       "3     01-06-2012  328.34  328.77  323.68  648.24    54,05,900\n",
       "4     01-09-2012  322.04  322.29  309.46  620.76  1,16,88,800\n",
       "...          ...     ...     ...     ...     ...          ...\n",
       "1253  12/23/2016  790.90  792.74  787.28  789.91     6,23,400\n",
       "1254  12/27/2016  790.68  797.86  787.66  791.55     7,89,100\n",
       "1255  12/28/2016  793.70  794.23  783.20  785.05    11,53,800\n",
       "1256  12/29/2016  783.33  785.93  778.92  782.79     7,44,300\n",
       "1257  12/30/2016  782.75  782.78  770.41  771.82    17,70,000\n",
       "\n",
       "[1258 rows x 6 columns]"
      ]
     },
     "execution_count": 4,
     "metadata": {},
     "output_type": "execute_result"
    }
   ],
   "source": [
    "train"
   ]
  },
  {
   "cell_type": "code",
   "execution_count": 5,
   "metadata": {},
   "outputs": [
    {
     "data": {
      "text/plain": [
       "0       325.25\n",
       "1       331.27\n",
       "2       329.83\n",
       "3       328.34\n",
       "4       322.04\n",
       "         ...  \n",
       "1253    790.90\n",
       "1254    790.68\n",
       "1255    793.70\n",
       "1256    783.33\n",
       "1257    782.75\n",
       "Name: Open, Length: 1258, dtype: float64"
      ]
     },
     "execution_count": 5,
     "metadata": {},
     "output_type": "execute_result"
    }
   ],
   "source": [
    "dataset_open = train['Open']\n",
    "dataset_open"
   ]
  },
  {
   "cell_type": "code",
   "execution_count": 6,
   "metadata": {},
   "outputs": [],
   "source": [
    "# i will consider my input and outpur variable from same column \n",
    "# i will be taking last few days data as input varailabe say last 60 observation are inputs.\n",
    "#Input varilable 0 - 59  Output varilable : 60 \n",
    "#                1 - 60                   : 61\n",
    "#                2 - 61                   : 62\n",
    "#               3 - 62                    : 63\n"
   ]
  },
  {
   "cell_type": "code",
   "execution_count": 8,
   "metadata": {},
   "outputs": [],
   "source": [
    "# we are focus is only open column so we will consider only that column for stock analysis\n",
    "train=train.iloc[:,1:2].values"
   ]
  },
  {
   "cell_type": "code",
   "execution_count": 9,
   "metadata": {},
   "outputs": [
    {
     "data": {
      "text/plain": [
       "array([[325.25],\n",
       "       [331.27],\n",
       "       [329.83],\n",
       "       ...,\n",
       "       [793.7 ],\n",
       "       [783.33],\n",
       "       [782.75]])"
      ]
     },
     "execution_count": 9,
     "metadata": {},
     "output_type": "execute_result"
    }
   ],
   "source": [
    "train  # open column "
   ]
  },
  {
   "cell_type": "code",
   "execution_count": 10,
   "metadata": {
    "scrolled": false
   },
   "outputs": [
    {
     "data": {
      "text/plain": [
       "2"
      ]
     },
     "execution_count": 10,
     "metadata": {},
     "output_type": "execute_result"
    }
   ],
   "source": [
    "train.ndim"
   ]
  },
  {
   "cell_type": "code",
   "execution_count": 11,
   "metadata": {},
   "outputs": [],
   "source": [
    "# scale the dataset \n",
    "from sklearn.preprocessing import MinMaxScaler\n",
    "sc=MinMaxScaler()\n",
    "train=sc.fit_transform(train)"
   ]
  },
  {
   "cell_type": "code",
   "execution_count": 12,
   "metadata": {},
   "outputs": [
    {
     "data": {
      "text/plain": [
       "array([[0.08581368],\n",
       "       [0.09701243],\n",
       "       [0.09433366],\n",
       "       ...,\n",
       "       [0.95725128],\n",
       "       [0.93796041],\n",
       "       [0.93688146]])"
      ]
     },
     "execution_count": 12,
     "metadata": {},
     "output_type": "execute_result"
    }
   ],
   "source": [
    "train # data set is scaled only by considering the column \" open\" from the main dataset"
   ]
  },
  {
   "cell_type": "code",
   "execution_count": 13,
   "metadata": {},
   "outputs": [],
   "source": [
    "# Creating empty list for xtrain and Ytrain\n",
    "\n",
    "x_train=[] # all input will be \n",
    "y_train=[] # output"
   ]
  },
  {
   "cell_type": "code",
   "execution_count": 14,
   "metadata": {},
   "outputs": [
    {
     "data": {
      "text/plain": [
       "(1258, 1)"
      ]
     },
     "execution_count": 14,
     "metadata": {},
     "output_type": "execute_result"
    }
   ],
   "source": [
    "train.shape"
   ]
  },
  {
   "cell_type": "code",
   "execution_count": 15,
   "metadata": {},
   "outputs": [],
   "source": [
    "for i in range(60,1258):\n",
    "    x_train.append(train[i-60:i,:]) # 0:60,:\n",
    "    y_train.append(train[i,:])# 60"
   ]
  },
  {
   "cell_type": "code",
   "execution_count": 16,
   "metadata": {},
   "outputs": [
    {
     "data": {
      "text/plain": [
       "list"
      ]
     },
     "execution_count": 16,
     "metadata": {},
     "output_type": "execute_result"
    }
   ],
   "source": [
    "type(x_train)"
   ]
  },
  {
   "cell_type": "code",
   "execution_count": 17,
   "metadata": {},
   "outputs": [],
   "source": [
    "x_train=np.array(x_train)"
   ]
  },
  {
   "cell_type": "code",
   "execution_count": 18,
   "metadata": {},
   "outputs": [],
   "source": [
    "y_train=np.array(y_train)"
   ]
  },
  {
   "cell_type": "code",
   "execution_count": 21,
   "metadata": {
    "collapsed": true
   },
   "outputs": [
    {
     "data": {
      "text/plain": [
       "(1198, 60, 1)"
      ]
     },
     "execution_count": 21,
     "metadata": {},
     "output_type": "execute_result"
    }
   ],
   "source": [
    "x_train.shape # ( rows, input in each row ,column)"
   ]
  },
  {
   "cell_type": "code",
   "execution_count": 24,
   "metadata": {
    "collapsed": true
   },
   "outputs": [
    {
     "data": {
      "text/plain": [
       "(1198, 1)"
      ]
     },
     "execution_count": 24,
     "metadata": {},
     "output_type": "execute_result"
    }
   ],
   "source": [
    "y_train.shape"
   ]
  },
  {
   "cell_type": "markdown",
   "metadata": {},
   "source": [
    "# Building NN Model"
   ]
  },
  {
   "cell_type": "code",
   "execution_count": 25,
   "metadata": {},
   "outputs": [],
   "source": [
    "from keras.models import Sequential\n",
    "from keras.layers import LSTM \n",
    "from keras.layers import Dense\n",
    "from keras.layers import Dropout"
   ]
  },
  {
   "cell_type": "markdown",
   "metadata": {},
   "source": [
    "# Init the NN model"
   ]
  },
  {
   "cell_type": "code",
   "execution_count": 26,
   "metadata": {},
   "outputs": [],
   "source": [
    "model=Sequential()"
   ]
  },
  {
   "cell_type": "code",
   "execution_count": 27,
   "metadata": {},
   "outputs": [],
   "source": [
    "#x_train.shape"
   ]
  },
  {
   "cell_type": "code",
   "execution_count": 29,
   "metadata": {},
   "outputs": [],
   "source": [
    "# input_shape = num of independent variables \n",
    "# unit = number of output from Layers \n",
    "# Return Sequence will tell whether we are adding one more layer or not \n",
    "model.add(LSTM(return_sequences=True,input_shape=(x_train.shape[1],1),units=50))"
   ]
  },
  {
   "cell_type": "code",
   "execution_count": null,
   "metadata": {},
   "outputs": [],
   "source": [
    "#LSTM have more chances of Overfitting \n",
    "# dropout layer will remove some neurons which are causing Overfitting problem\n"
   ]
  },
  {
   "cell_type": "code",
   "execution_count": 30,
   "metadata": {},
   "outputs": [],
   "source": [
    "# if we have same context in cell then there is chances of Over fitting to so we have to remove that using Drop out \n",
    "# Drop out will remove some unwanted neurons \n",
    "\n",
    "model.add(Dropout(0.2))"
   ]
  },
  {
   "cell_type": "code",
   "execution_count": 31,
   "metadata": {},
   "outputs": [],
   "source": [
    "# its hidden layer so we dont pass input shape and Adding the multiple Hidden layer\n",
    "\n",
    "model.add(LSTM(return_sequences=True,units=50))\n",
    "model.add(Dropout(0.2))"
   ]
  },
  {
   "cell_type": "code",
   "execution_count": 32,
   "metadata": {},
   "outputs": [],
   "source": [
    "model.add(LSTM(return_sequences=True,units=50))\n",
    "model.add(Dropout(0.2))"
   ]
  },
  {
   "cell_type": "code",
   "execution_count": 33,
   "metadata": {},
   "outputs": [],
   "source": [
    "model.add(LSTM(return_sequences=False,units=50))\n",
    "model.add(Dropout(0.2))"
   ]
  },
  {
   "cell_type": "markdown",
   "metadata": {},
   "source": [
    "# Add Output layer"
   ]
  },
  {
   "cell_type": "code",
   "execution_count": 34,
   "metadata": {},
   "outputs": [],
   "source": [
    "# we have to add activation function but data am adding here is related to regression model and if we user activatoin fucnction relu\n",
    "# it will give only positive value but thats not correct way because am fine with out put negative also \n",
    "\n",
    "model.add(Dense(kernel_initializer=\"random_uniform\",units=1))"
   ]
  },
  {
   "cell_type": "markdown",
   "metadata": {},
   "source": [
    "# Compile the model"
   ]
  },
  {
   "cell_type": "code",
   "execution_count": 35,
   "metadata": {},
   "outputs": [],
   "source": [
    "#binary cross entory for binary \n",
    "#for regression we will use LSE \n",
    "# optimizer tells method how to update the weights using Gradient Descent Method\n",
    "\n",
    "model.compile(loss=\"mean_squared_error\",optimizer=\"adam\",metrics=[\"mse\"])"
   ]
  },
  {
   "cell_type": "code",
   "execution_count": 36,
   "metadata": {
    "collapsed": true
   },
   "outputs": [
    {
     "name": "stdout",
     "output_type": "stream",
     "text": [
      "Epoch 1/50\n",
      "1198/1198 [==============================] - 9s 7ms/step - loss: 0.0945 - mse: 0.0945\n",
      "Epoch 2/50\n",
      "1198/1198 [==============================] - 7s 6ms/step - loss: 0.0069 - mse: 0.0069\n",
      "Epoch 3/50\n",
      "1198/1198 [==============================] - 6s 5ms/step - loss: 0.0058 - mse: 0.0058\n",
      "Epoch 4/50\n",
      "1198/1198 [==============================] - 6s 5ms/step - loss: 0.0056 - mse: 0.0056\n",
      "Epoch 5/50\n",
      "1198/1198 [==============================] - 7s 6ms/step - loss: 0.0050 - mse: 0.0050\n",
      "Epoch 6/50\n",
      "1198/1198 [==============================] - 7s 6ms/step - loss: 0.0047 - mse: 0.0047\n",
      "Epoch 7/50\n",
      "1198/1198 [==============================] - 9s 7ms/step - loss: 0.0053 - mse: 0.0053\n",
      "Epoch 8/50\n",
      "1198/1198 [==============================] - 6s 5ms/step - loss: 0.0045 - mse: 0.0045\n",
      "Epoch 9/50\n",
      "1198/1198 [==============================] - 7s 5ms/step - loss: 0.0041 - mse: 0.0041A: 4s\n",
      "Epoch 10/50\n",
      "1198/1198 [==============================] - 6s 5ms/step - loss: 0.0041 - mse: 0.0041\n",
      "Epoch 11/50\n",
      "1198/1198 [==============================] - 6s 5ms/step - loss: 0.0045 - mse: 0.0045A: 0s - loss: 0.0044 - mse: 0.\n",
      "Epoch 12/50\n",
      "1198/1198 [==============================] - 7s 6ms/step - loss: 0.0037 - mse: 0.0037\n",
      "Epoch 13/50\n",
      "1198/1198 [==============================] - 6s 5ms/step - loss: 0.0036 - mse: 0.0036\n",
      "Epoch 14/50\n",
      "1198/1198 [==============================] - 7s 6ms/step - loss: 0.0039 - mse: 0.0039\n",
      "Epoch 15/50\n",
      "1198/1198 [==============================] - 6s 5ms/step - loss: 0.0040 - mse: 0.0040\n",
      "Epoch 16/50\n",
      "1198/1198 [==============================] - 6s 5ms/step - loss: 0.0031 - mse: 0.0031\n",
      "Epoch 17/50\n",
      "1198/1198 [==============================] - 7s 6ms/step - loss: 0.0034 - mse: 0.0034\n",
      "Epoch 18/50\n",
      "1198/1198 [==============================] - 6s 5ms/step - loss: 0.0036 - mse: 0.0036\n",
      "Epoch 19/50\n",
      "1198/1198 [==============================] - 6s 5ms/step - loss: 0.0036 - mse: 0.0036\n",
      "Epoch 20/50\n",
      "1198/1198 [==============================] - 6s 5ms/step - loss: 0.0035 - mse: 0.0035\n",
      "Epoch 21/50\n",
      "1198/1198 [==============================] - 6s 5ms/step - loss: 0.0035 - mse: 0.0035\n",
      "Epoch 22/50\n",
      "1198/1198 [==============================] - 7s 5ms/step - loss: 0.0033 - mse: 0.0033\n",
      "Epoch 23/50\n",
      "1198/1198 [==============================] - 6s 5ms/step - loss: 0.0033 - mse: 0.0033\n",
      "Epoch 24/50\n",
      "1198/1198 [==============================] - 6s 5ms/step - loss: 0.0032 - mse: 0.0032\n",
      "Epoch 25/50\n",
      "1198/1198 [==============================] - 6s 5ms/step - loss: 0.0033 - mse: 0.0033\n",
      "Epoch 26/50\n",
      "1198/1198 [==============================] - 6s 5ms/step - loss: 0.0032 - mse: 0.0032\n",
      "Epoch 27/50\n",
      "1198/1198 [==============================] - 7s 6ms/step - loss: 0.0033 - mse: 0.0033\n",
      "Epoch 28/50\n",
      "1198/1198 [==============================] - 6s 5ms/step - loss: 0.0035 - mse: 0.0035\n",
      "Epoch 29/50\n",
      "1198/1198 [==============================] - 6s 5ms/step - loss: 0.0033 - mse: 0.0033\n",
      "Epoch 30/50\n",
      "1198/1198 [==============================] - 8s 6ms/step - loss: 0.0031 - mse: 0.0031\n",
      "Epoch 31/50\n",
      "1198/1198 [==============================] - 6s 5ms/step - loss: 0.0031 - mse: 0.0031\n",
      "Epoch 32/50\n",
      "1198/1198 [==============================] - 6s 5ms/step - loss: 0.0035 - mse: 0.0035\n",
      "Epoch 33/50\n",
      "1198/1198 [==============================] - 6s 5ms/step - loss: 0.0032 - mse: 0.0032\n",
      "Epoch 34/50\n",
      "1198/1198 [==============================] - 6s 5ms/step - loss: 0.0028 - mse: 0.0028\n",
      "Epoch 35/50\n",
      "1198/1198 [==============================] - 7s 5ms/step - loss: 0.0030 - mse: 0.0030\n",
      "Epoch 36/50\n",
      "1198/1198 [==============================] - 6s 5ms/step - loss: 0.0029 - mse: 0.0029\n",
      "Epoch 37/50\n",
      "1198/1198 [==============================] - 6s 5ms/step - loss: 0.0030 - mse: 0.0030\n",
      "Epoch 38/50\n",
      "1198/1198 [==============================] - 6s 5ms/step - loss: 0.0028 - mse: 0.0028\n",
      "Epoch 39/50\n",
      "1198/1198 [==============================] - 6s 5ms/step - loss: 0.0030 - mse: 0.0030\n",
      "Epoch 40/50\n",
      "1198/1198 [==============================] - 7s 6ms/step - loss: 0.0029 - mse: 0.0029\n",
      "Epoch 41/50\n",
      "1198/1198 [==============================] - 6s 5ms/step - loss: 0.0031 - mse: 0.0031\n",
      "Epoch 42/50\n",
      "1198/1198 [==============================] - 6s 5ms/step - loss: 0.0029 - mse: 0.0029\n",
      "Epoch 43/50\n",
      "1198/1198 [==============================] - 6s 5ms/step - loss: 0.0025 - mse: 0.0025\n",
      "Epoch 44/50\n",
      "1198/1198 [==============================] - 6s 5ms/step - loss: 0.0023 - mse: 0.0023\n",
      "Epoch 45/50\n",
      "1198/1198 [==============================] - 7s 6ms/step - loss: 0.0026 - mse: 0.0026A: 1s - loss: 0.0025 - mse:\n",
      "Epoch 46/50\n",
      "1198/1198 [==============================] - 6s 5ms/step - loss: 0.0027 - mse: 0.0027\n",
      "Epoch 47/50\n",
      "1198/1198 [==============================] - 6s 5ms/step - loss: 0.0024 - mse: 0.0024\n",
      "Epoch 48/50\n",
      "1198/1198 [==============================] - 7s 5ms/step - loss: 0.0027 - mse: 0.0027\n",
      "Epoch 49/50\n",
      "1198/1198 [==============================] - 6s 5ms/step - loss: 0.0025 - mse: 0.0025\n",
      "Epoch 50/50\n",
      "1198/1198 [==============================] - 6s 5ms/step - loss: 0.0023 - mse: 0.0023\n"
     ]
    },
    {
     "data": {
      "text/plain": [
       "<keras.callbacks.callbacks.History at 0x13694327fc8>"
      ]
     },
     "execution_count": 36,
     "metadata": {},
     "output_type": "execute_result"
    }
   ],
   "source": [
    "model.fit(x_train, y_train, epochs = 50, batch_size = 32)"
   ]
  },
  {
   "cell_type": "code",
   "execution_count": 37,
   "metadata": {
    "collapsed": true
   },
   "outputs": [
    {
     "data": {
      "text/plain": [
       "<keras.engine.sequential.Sequential at 0x136869c2b48>"
      ]
     },
     "execution_count": 37,
     "metadata": {},
     "output_type": "execute_result"
    }
   ],
   "source": [
    "model"
   ]
  },
  {
   "cell_type": "code",
   "execution_count": 39,
   "metadata": {},
   "outputs": [],
   "source": [
    "train_data=pd.read_csv(\"D:\\\\Course\\\\Python\\\\Datasets\\\\Google_Stock_Price_Train.csv\")"
   ]
  },
  {
   "cell_type": "code",
   "execution_count": 40,
   "metadata": {},
   "outputs": [],
   "source": [
    "test_data=pd.read_csv(\"D:\\\\Course\\\\Python\\\\Datasets\\\\Google_Stock_Price_Test.csv\")"
   ]
  },
  {
   "cell_type": "code",
   "execution_count": 41,
   "metadata": {},
   "outputs": [],
   "source": [
    "dataset=pd.concat([train_data,test_data])"
   ]
  },
  {
   "cell_type": "code",
   "execution_count": 42,
   "metadata": {},
   "outputs": [
    {
     "data": {
      "text/html": [
       "<div>\n",
       "<style scoped>\n",
       "    .dataframe tbody tr th:only-of-type {\n",
       "        vertical-align: middle;\n",
       "    }\n",
       "\n",
       "    .dataframe tbody tr th {\n",
       "        vertical-align: top;\n",
       "    }\n",
       "\n",
       "    .dataframe thead th {\n",
       "        text-align: right;\n",
       "    }\n",
       "</style>\n",
       "<table border=\"1\" class=\"dataframe\">\n",
       "  <thead>\n",
       "    <tr style=\"text-align: right;\">\n",
       "      <th></th>\n",
       "      <th>Date</th>\n",
       "      <th>Open</th>\n",
       "      <th>High</th>\n",
       "      <th>Low</th>\n",
       "      <th>Close</th>\n",
       "      <th>Volume</th>\n",
       "    </tr>\n",
       "  </thead>\n",
       "  <tbody>\n",
       "    <tr>\n",
       "      <td>0</td>\n",
       "      <td>01-03-2012</td>\n",
       "      <td>325.25</td>\n",
       "      <td>332.83</td>\n",
       "      <td>324.97</td>\n",
       "      <td>663.59</td>\n",
       "      <td>73,80,500</td>\n",
       "    </tr>\n",
       "    <tr>\n",
       "      <td>1</td>\n",
       "      <td>01-04-2012</td>\n",
       "      <td>331.27</td>\n",
       "      <td>333.87</td>\n",
       "      <td>329.08</td>\n",
       "      <td>666.45</td>\n",
       "      <td>57,49,400</td>\n",
       "    </tr>\n",
       "    <tr>\n",
       "      <td>2</td>\n",
       "      <td>01-05-2012</td>\n",
       "      <td>329.83</td>\n",
       "      <td>330.75</td>\n",
       "      <td>326.89</td>\n",
       "      <td>657.21</td>\n",
       "      <td>65,90,300</td>\n",
       "    </tr>\n",
       "    <tr>\n",
       "      <td>3</td>\n",
       "      <td>01-06-2012</td>\n",
       "      <td>328.34</td>\n",
       "      <td>328.77</td>\n",
       "      <td>323.68</td>\n",
       "      <td>648.24</td>\n",
       "      <td>54,05,900</td>\n",
       "    </tr>\n",
       "    <tr>\n",
       "      <td>4</td>\n",
       "      <td>01-09-2012</td>\n",
       "      <td>322.04</td>\n",
       "      <td>322.29</td>\n",
       "      <td>309.46</td>\n",
       "      <td>620.76</td>\n",
       "      <td>1,16,88,800</td>\n",
       "    </tr>\n",
       "    <tr>\n",
       "      <td>...</td>\n",
       "      <td>...</td>\n",
       "      <td>...</td>\n",
       "      <td>...</td>\n",
       "      <td>...</td>\n",
       "      <td>...</td>\n",
       "      <td>...</td>\n",
       "    </tr>\n",
       "    <tr>\n",
       "      <td>15</td>\n",
       "      <td>1/25/2017</td>\n",
       "      <td>829.62</td>\n",
       "      <td>835.77</td>\n",
       "      <td>825.06</td>\n",
       "      <td>835.67</td>\n",
       "      <td>1,494,500</td>\n",
       "    </tr>\n",
       "    <tr>\n",
       "      <td>16</td>\n",
       "      <td>1/26/2017</td>\n",
       "      <td>837.81</td>\n",
       "      <td>838.00</td>\n",
       "      <td>827.01</td>\n",
       "      <td>832.15</td>\n",
       "      <td>2,973,900</td>\n",
       "    </tr>\n",
       "    <tr>\n",
       "      <td>17</td>\n",
       "      <td>1/27/2017</td>\n",
       "      <td>834.71</td>\n",
       "      <td>841.95</td>\n",
       "      <td>820.44</td>\n",
       "      <td>823.31</td>\n",
       "      <td>2,965,800</td>\n",
       "    </tr>\n",
       "    <tr>\n",
       "      <td>18</td>\n",
       "      <td>1/30/2017</td>\n",
       "      <td>814.66</td>\n",
       "      <td>815.84</td>\n",
       "      <td>799.80</td>\n",
       "      <td>802.32</td>\n",
       "      <td>3,246,600</td>\n",
       "    </tr>\n",
       "    <tr>\n",
       "      <td>19</td>\n",
       "      <td>1/31/2017</td>\n",
       "      <td>796.86</td>\n",
       "      <td>801.25</td>\n",
       "      <td>790.52</td>\n",
       "      <td>796.79</td>\n",
       "      <td>2,160,600</td>\n",
       "    </tr>\n",
       "  </tbody>\n",
       "</table>\n",
       "<p>1278 rows × 6 columns</p>\n",
       "</div>"
      ],
      "text/plain": [
       "          Date    Open    High     Low   Close       Volume\n",
       "0   01-03-2012  325.25  332.83  324.97  663.59    73,80,500\n",
       "1   01-04-2012  331.27  333.87  329.08  666.45    57,49,400\n",
       "2   01-05-2012  329.83  330.75  326.89  657.21    65,90,300\n",
       "3   01-06-2012  328.34  328.77  323.68  648.24    54,05,900\n",
       "4   01-09-2012  322.04  322.29  309.46  620.76  1,16,88,800\n",
       "..         ...     ...     ...     ...     ...          ...\n",
       "15   1/25/2017  829.62  835.77  825.06  835.67    1,494,500\n",
       "16   1/26/2017  837.81  838.00  827.01  832.15    2,973,900\n",
       "17   1/27/2017  834.71  841.95  820.44  823.31    2,965,800\n",
       "18   1/30/2017  814.66  815.84  799.80  802.32    3,246,600\n",
       "19   1/31/2017  796.86  801.25  790.52  796.79    2,160,600\n",
       "\n",
       "[1278 rows x 6 columns]"
      ]
     },
     "execution_count": 42,
     "metadata": {},
     "output_type": "execute_result"
    }
   ],
   "source": [
    "dataset"
   ]
  },
  {
   "cell_type": "code",
   "execution_count": 43,
   "metadata": {},
   "outputs": [
    {
     "data": {
      "text/plain": [
       "1198"
      ]
     },
     "execution_count": 43,
     "metadata": {},
     "output_type": "execute_result"
    }
   ],
   "source": [
    "len(dataset)-len(test_data)-60 "
   ]
  },
  {
   "cell_type": "code",
   "execution_count": 44,
   "metadata": {},
   "outputs": [],
   "source": [
    "# last 60 values from train data and 20 from Test Data \n",
    "\n",
    "test=dataset.iloc[len(dataset)-len(test_data)-60:,:] #{1198:1279 will be my testing dataset}\n",
    "#dataset.iloc[1198:,:]"
   ]
  },
  {
   "cell_type": "code",
   "execution_count": 45,
   "metadata": {
    "collapsed": true
   },
   "outputs": [
    {
     "data": {
      "text/html": [
       "<div>\n",
       "<style scoped>\n",
       "    .dataframe tbody tr th:only-of-type {\n",
       "        vertical-align: middle;\n",
       "    }\n",
       "\n",
       "    .dataframe tbody tr th {\n",
       "        vertical-align: top;\n",
       "    }\n",
       "\n",
       "    .dataframe thead th {\n",
       "        text-align: right;\n",
       "    }\n",
       "</style>\n",
       "<table border=\"1\" class=\"dataframe\">\n",
       "  <thead>\n",
       "    <tr style=\"text-align: right;\">\n",
       "      <th></th>\n",
       "      <th>Date</th>\n",
       "      <th>Open</th>\n",
       "      <th>High</th>\n",
       "      <th>Low</th>\n",
       "      <th>Close</th>\n",
       "      <th>Volume</th>\n",
       "    </tr>\n",
       "  </thead>\n",
       "  <tbody>\n",
       "    <tr>\n",
       "      <td>1198</td>\n",
       "      <td>10-06-2016</td>\n",
       "      <td>779.00</td>\n",
       "      <td>780.48</td>\n",
       "      <td>775.54</td>\n",
       "      <td>776.86</td>\n",
       "      <td>10,70,700</td>\n",
       "    </tr>\n",
       "    <tr>\n",
       "      <td>1199</td>\n",
       "      <td>10-07-2016</td>\n",
       "      <td>779.66</td>\n",
       "      <td>779.66</td>\n",
       "      <td>770.75</td>\n",
       "      <td>775.08</td>\n",
       "      <td>9,33,200</td>\n",
       "    </tr>\n",
       "    <tr>\n",
       "      <td>1200</td>\n",
       "      <td>10-10-2016</td>\n",
       "      <td>777.71</td>\n",
       "      <td>789.38</td>\n",
       "      <td>775.87</td>\n",
       "      <td>785.94</td>\n",
       "      <td>11,74,900</td>\n",
       "    </tr>\n",
       "    <tr>\n",
       "      <td>1201</td>\n",
       "      <td>10-11-2016</td>\n",
       "      <td>786.66</td>\n",
       "      <td>792.28</td>\n",
       "      <td>780.58</td>\n",
       "      <td>783.07</td>\n",
       "      <td>13,72,500</td>\n",
       "    </tr>\n",
       "    <tr>\n",
       "      <td>1202</td>\n",
       "      <td>10-12-2016</td>\n",
       "      <td>783.76</td>\n",
       "      <td>788.13</td>\n",
       "      <td>782.06</td>\n",
       "      <td>786.14</td>\n",
       "      <td>9,37,400</td>\n",
       "    </tr>\n",
       "    <tr>\n",
       "      <td>...</td>\n",
       "      <td>...</td>\n",
       "      <td>...</td>\n",
       "      <td>...</td>\n",
       "      <td>...</td>\n",
       "      <td>...</td>\n",
       "      <td>...</td>\n",
       "    </tr>\n",
       "    <tr>\n",
       "      <td>15</td>\n",
       "      <td>1/25/2017</td>\n",
       "      <td>829.62</td>\n",
       "      <td>835.77</td>\n",
       "      <td>825.06</td>\n",
       "      <td>835.67</td>\n",
       "      <td>1,494,500</td>\n",
       "    </tr>\n",
       "    <tr>\n",
       "      <td>16</td>\n",
       "      <td>1/26/2017</td>\n",
       "      <td>837.81</td>\n",
       "      <td>838.00</td>\n",
       "      <td>827.01</td>\n",
       "      <td>832.15</td>\n",
       "      <td>2,973,900</td>\n",
       "    </tr>\n",
       "    <tr>\n",
       "      <td>17</td>\n",
       "      <td>1/27/2017</td>\n",
       "      <td>834.71</td>\n",
       "      <td>841.95</td>\n",
       "      <td>820.44</td>\n",
       "      <td>823.31</td>\n",
       "      <td>2,965,800</td>\n",
       "    </tr>\n",
       "    <tr>\n",
       "      <td>18</td>\n",
       "      <td>1/30/2017</td>\n",
       "      <td>814.66</td>\n",
       "      <td>815.84</td>\n",
       "      <td>799.80</td>\n",
       "      <td>802.32</td>\n",
       "      <td>3,246,600</td>\n",
       "    </tr>\n",
       "    <tr>\n",
       "      <td>19</td>\n",
       "      <td>1/31/2017</td>\n",
       "      <td>796.86</td>\n",
       "      <td>801.25</td>\n",
       "      <td>790.52</td>\n",
       "      <td>796.79</td>\n",
       "      <td>2,160,600</td>\n",
       "    </tr>\n",
       "  </tbody>\n",
       "</table>\n",
       "<p>80 rows × 6 columns</p>\n",
       "</div>"
      ],
      "text/plain": [
       "            Date    Open    High     Low   Close     Volume\n",
       "1198  10-06-2016  779.00  780.48  775.54  776.86  10,70,700\n",
       "1199  10-07-2016  779.66  779.66  770.75  775.08   9,33,200\n",
       "1200  10-10-2016  777.71  789.38  775.87  785.94  11,74,900\n",
       "1201  10-11-2016  786.66  792.28  780.58  783.07  13,72,500\n",
       "1202  10-12-2016  783.76  788.13  782.06  786.14   9,37,400\n",
       "...          ...     ...     ...     ...     ...        ...\n",
       "15     1/25/2017  829.62  835.77  825.06  835.67  1,494,500\n",
       "16     1/26/2017  837.81  838.00  827.01  832.15  2,973,900\n",
       "17     1/27/2017  834.71  841.95  820.44  823.31  2,965,800\n",
       "18     1/30/2017  814.66  815.84  799.80  802.32  3,246,600\n",
       "19     1/31/2017  796.86  801.25  790.52  796.79  2,160,600\n",
       "\n",
       "[80 rows x 6 columns]"
      ]
     },
     "execution_count": 45,
     "metadata": {},
     "output_type": "execute_result"
    }
   ],
   "source": [
    "test"
   ]
  },
  {
   "cell_type": "code",
   "execution_count": 46,
   "metadata": {},
   "outputs": [],
   "source": [
    "test=test[\"Open\"].values"
   ]
  },
  {
   "cell_type": "code",
   "execution_count": 47,
   "metadata": {},
   "outputs": [
    {
     "data": {
      "text/plain": [
       "(80,)"
      ]
     },
     "execution_count": 47,
     "metadata": {},
     "output_type": "execute_result"
    }
   ],
   "source": [
    "test.shape"
   ]
  },
  {
   "cell_type": "code",
   "execution_count": 48,
   "metadata": {},
   "outputs": [],
   "source": [
    "test=test.reshape(80,1)"
   ]
  },
  {
   "cell_type": "code",
   "execution_count": 49,
   "metadata": {},
   "outputs": [],
   "source": [
    "test=sc.transform(test)"
   ]
  },
  {
   "cell_type": "code",
   "execution_count": 50,
   "metadata": {},
   "outputs": [],
   "source": [
    "x_test=[]\n",
    "y_test=[]"
   ]
  },
  {
   "cell_type": "code",
   "execution_count": 51,
   "metadata": {},
   "outputs": [],
   "source": [
    "for i in range(60,80):\n",
    "    x_test.append(test[i-60:i,:])\n",
    "    y_test.append(test[i,:])"
   ]
  },
  {
   "cell_type": "code",
   "execution_count": 52,
   "metadata": {},
   "outputs": [],
   "source": [
    "x_test=np.array(x_test)\n",
    "y_test=np.array(y_test)"
   ]
  },
  {
   "cell_type": "code",
   "execution_count": 53,
   "metadata": {},
   "outputs": [
    {
     "data": {
      "text/plain": [
       "(20, 60, 1)"
      ]
     },
     "execution_count": 53,
     "metadata": {},
     "output_type": "execute_result"
    }
   ],
   "source": [
    "x_test.shape"
   ]
  },
  {
   "cell_type": "code",
   "execution_count": 54,
   "metadata": {},
   "outputs": [
    {
     "data": {
      "text/plain": [
       "(20, 1)"
      ]
     },
     "execution_count": 54,
     "metadata": {},
     "output_type": "execute_result"
    }
   ],
   "source": [
    "y_test.shape"
   ]
  },
  {
   "cell_type": "code",
   "execution_count": 55,
   "metadata": {},
   "outputs": [],
   "source": [
    "y_pred = model.predict(x_test)"
   ]
  },
  {
   "cell_type": "code",
   "execution_count": 56,
   "metadata": {},
   "outputs": [
    {
     "data": {
      "text/plain": [
       "array([[0.93024474],\n",
       "       [0.92800367],\n",
       "       [0.9257218 ],\n",
       "       [0.923677  ],\n",
       "       [0.922403  ],\n",
       "       [0.92252237],\n",
       "       [0.92411727],\n",
       "       [0.92670804],\n",
       "       [0.92980933],\n",
       "       [0.932978  ],\n",
       "       [0.93587476],\n",
       "       [0.93826085],\n",
       "       [0.94003487],\n",
       "       [0.9412984 ],\n",
       "       [0.9421792 ],\n",
       "       [0.94338745],\n",
       "       [0.945424  ],\n",
       "       [0.9485529 ],\n",
       "       [0.9523523 ],\n",
       "       [0.9555291 ]], dtype=float32)"
      ]
     },
     "execution_count": 56,
     "metadata": {},
     "output_type": "execute_result"
    }
   ],
   "source": [
    "y_pred"
   ]
  },
  {
   "cell_type": "code",
   "execution_count": 48,
   "metadata": {
    "collapsed": true
   },
   "outputs": [
    {
     "data": {
      "text/plain": [
       "array([[0.92955205],\n",
       "       [0.94731751],\n",
       "       [0.94307612],\n",
       "       [0.96015329],\n",
       "       [0.98087655],\n",
       "       [0.98359253],\n",
       "       [0.97827219],\n",
       "       [0.98225314],\n",
       "       [0.98288563],\n",
       "       [0.98214153],\n",
       "       [0.979779  ],\n",
       "       [0.97849542],\n",
       "       [0.98182528],\n",
       "       [0.98245777],\n",
       "       [1.01045465],\n",
       "       [1.02407173],\n",
       "       [1.03930724],\n",
       "       [1.03354044],\n",
       "       [0.99624228],\n",
       "       [0.9631297 ]])"
      ]
     },
     "execution_count": 48,
     "metadata": {},
     "output_type": "execute_result"
    }
   ],
   "source": [
    "y_test"
   ]
  },
  {
   "cell_type": "code",
   "execution_count": 57,
   "metadata": {},
   "outputs": [],
   "source": [
    "from sklearn.metrics import mean_squared_error"
   ]
  },
  {
   "cell_type": "code",
   "execution_count": 58,
   "metadata": {},
   "outputs": [
    {
     "data": {
      "text/plain": [
       "0.0028292772306091193"
      ]
     },
     "execution_count": 58,
     "metadata": {},
     "output_type": "execute_result"
    }
   ],
   "source": [
    "mean_squared_error(y_test,y_pred)"
   ]
  },
  {
   "cell_type": "code",
   "execution_count": 59,
   "metadata": {},
   "outputs": [
    {
     "data": {
      "image/png": "[encoded data removed]",
      "text/plain": [
       "<Figure size 432x288 with 1 Axes>"
      ]
     },
     "metadata": {
      "needs_background": "light"
     },
     "output_type": "display_data"
    }
   ],
   "source": [
    "plt.plot(y_test, color = 'red', label = 'Real Google Stock Price')\n",
    "plt.plot(y_pred, color = 'blue', label = 'Predicted Google Stock Price')\n",
    "plt.title('Google Stock Price Prediction')\n",
    "plt.xlabel('Time')\n",
    "plt.ylabel('Google Stock Price')\n",
    "plt.legend()\n",
    "plt.show()"
   ]
  },
  {
   "cell_type": "code",
   "execution_count": null,
   "metadata": {},
   "outputs": [],
   "source": []
  }
 ],
 "metadata": {
  "kernelspec": {
   "display_name": "Python 3",
   "language": "python",
   "name": "python3"
  },
  "language_info": {
   "codemirror_mode": {
    "name": "ipython",
    "version": 3
   },
   "file_extension": ".py",
   "mimetype": "text/x-python",
   "name": "python",
   "nbconvert_exporter": "python",
   "pygments_lexer": "ipython3",
   "version": "3.8.8"
  }
 },
 "nbformat": 4,
 "nbformat_minor": 2
}
